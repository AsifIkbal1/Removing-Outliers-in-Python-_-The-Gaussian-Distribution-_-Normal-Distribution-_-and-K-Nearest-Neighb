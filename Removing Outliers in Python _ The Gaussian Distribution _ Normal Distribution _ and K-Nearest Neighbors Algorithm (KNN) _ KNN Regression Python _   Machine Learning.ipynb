{
 "cells": [
  {
   "cell_type": "code",
   "execution_count": 153,
   "metadata": {},
   "outputs": [],
   "source": [
    "import pandas as pd\n",
    "from pandas.plotting import scatter_matrix\n",
    "import matplotlib.pyplot as plt\n",
    "from sklearn import model_selection\n",
    "from sklearn.metrics import classification_report\n",
    "from sklearn.metrics import confusion_matrix\n",
    "from sklearn.metrics import accuracy_score\n",
    "from sklearn.linear_model import LogisticRegression\n",
    "from sklearn.tree import DecisionTreeClassifier\n",
    "from sklearn.neighbors import KNeighborsClassifier\n",
    "from sklearn.discriminant_analysis import LinearDiscriminantAnalysis\n",
    "from sklearn.naive_bayes import GaussianNB\n",
    "from sklearn.svm import SVC\n",
    "from sklearn.model_selection import train_test_split\n",
    "from sklearn.linear_model import LinearRegression\n",
    "from sklearn.linear_model import LogisticRegression\n",
    "import numpy as np\n",
    "import pandas as pd\n",
    "from sklearn.preprocessing import StandardScaler\n",
    "from sklearn.metrics import f1_score\n",
    "from sklearn.metrics import accuracy_score\n",
    "%matplotlib inline\n",
    "import seaborn as sns\n",
    "import pandas as pd\n",
    "from sklearn.naive_bayes import GaussianNB\n",
    "from sklearn.model_selection import train_test_split\n",
    "from sklearn.preprocessing import LabelEncoder\n"
   ]
  },
  {
   "cell_type": "code",
   "execution_count": 154,
   "metadata": {},
   "outputs": [
    {
     "data": {
      "text/html": [
       "<div>\n",
       "<style scoped>\n",
       "    .dataframe tbody tr th:only-of-type {\n",
       "        vertical-align: middle;\n",
       "    }\n",
       "\n",
       "    .dataframe tbody tr th {\n",
       "        vertical-align: top;\n",
       "    }\n",
       "\n",
       "    .dataframe thead th {\n",
       "        text-align: right;\n",
       "    }\n",
       "</style>\n",
       "<table border=\"1\" class=\"dataframe\">\n",
       "  <thead>\n",
       "    <tr style=\"text-align: right;\">\n",
       "      <th></th>\n",
       "      <th>Gender</th>\n",
       "      <th>Height</th>\n",
       "      <th>Weight</th>\n",
       "    </tr>\n",
       "  </thead>\n",
       "  <tbody>\n",
       "    <tr>\n",
       "      <th>0</th>\n",
       "      <td>Male</td>\n",
       "      <td>73.847017</td>\n",
       "      <td>241.893563</td>\n",
       "    </tr>\n",
       "    <tr>\n",
       "      <th>1</th>\n",
       "      <td>Male</td>\n",
       "      <td>68.781904</td>\n",
       "      <td>162.310473</td>\n",
       "    </tr>\n",
       "    <tr>\n",
       "      <th>2</th>\n",
       "      <td>Male</td>\n",
       "      <td>74.110105</td>\n",
       "      <td>212.740856</td>\n",
       "    </tr>\n",
       "    <tr>\n",
       "      <th>3</th>\n",
       "      <td>Male</td>\n",
       "      <td>71.730978</td>\n",
       "      <td>220.042470</td>\n",
       "    </tr>\n",
       "    <tr>\n",
       "      <th>4</th>\n",
       "      <td>Male</td>\n",
       "      <td>69.881796</td>\n",
       "      <td>206.349801</td>\n",
       "    </tr>\n",
       "  </tbody>\n",
       "</table>\n",
       "</div>"
      ],
      "text/plain": [
       "  Gender     Height      Weight\n",
       "0   Male  73.847017  241.893563\n",
       "1   Male  68.781904  162.310473\n",
       "2   Male  74.110105  212.740856\n",
       "3   Male  71.730978  220.042470\n",
       "4   Male  69.881796  206.349801"
      ]
     },
     "execution_count": 154,
     "metadata": {},
     "output_type": "execute_result"
    }
   ],
   "source": [
    "df=pd.read_csv('file:///F:/weight-height.csv')\n",
    "df.head()"
   ]
  },
  {
   "cell_type": "code",
   "execution_count": 155,
   "metadata": {},
   "outputs": [
    {
     "data": {
      "text/html": [
       "<div>\n",
       "<style scoped>\n",
       "    .dataframe tbody tr th:only-of-type {\n",
       "        vertical-align: middle;\n",
       "    }\n",
       "\n",
       "    .dataframe tbody tr th {\n",
       "        vertical-align: top;\n",
       "    }\n",
       "\n",
       "    .dataframe thead th {\n",
       "        text-align: right;\n",
       "    }\n",
       "</style>\n",
       "<table border=\"1\" class=\"dataframe\">\n",
       "  <thead>\n",
       "    <tr style=\"text-align: right;\">\n",
       "      <th></th>\n",
       "      <th>Gender</th>\n",
       "      <th>Height</th>\n",
       "      <th>Weight</th>\n",
       "    </tr>\n",
       "  </thead>\n",
       "  <tbody>\n",
       "    <tr>\n",
       "      <th>9995</th>\n",
       "      <td>Female</td>\n",
       "      <td>66.172652</td>\n",
       "      <td>136.777454</td>\n",
       "    </tr>\n",
       "    <tr>\n",
       "      <th>9996</th>\n",
       "      <td>Female</td>\n",
       "      <td>67.067155</td>\n",
       "      <td>170.867906</td>\n",
       "    </tr>\n",
       "    <tr>\n",
       "      <th>9997</th>\n",
       "      <td>Female</td>\n",
       "      <td>63.867992</td>\n",
       "      <td>128.475319</td>\n",
       "    </tr>\n",
       "    <tr>\n",
       "      <th>9998</th>\n",
       "      <td>Female</td>\n",
       "      <td>69.034243</td>\n",
       "      <td>163.852461</td>\n",
       "    </tr>\n",
       "    <tr>\n",
       "      <th>9999</th>\n",
       "      <td>Female</td>\n",
       "      <td>61.944246</td>\n",
       "      <td>113.649103</td>\n",
       "    </tr>\n",
       "  </tbody>\n",
       "</table>\n",
       "</div>"
      ],
      "text/plain": [
       "      Gender     Height      Weight\n",
       "9995  Female  66.172652  136.777454\n",
       "9996  Female  67.067155  170.867906\n",
       "9997  Female  63.867992  128.475319\n",
       "9998  Female  69.034243  163.852461\n",
       "9999  Female  61.944246  113.649103"
      ]
     },
     "execution_count": 155,
     "metadata": {},
     "output_type": "execute_result"
    }
   ],
   "source": [
    "df.tail()"
   ]
  },
  {
   "cell_type": "code",
   "execution_count": 156,
   "metadata": {},
   "outputs": [
    {
     "data": {
      "text/plain": [
       "(10000, 3)"
      ]
     },
     "execution_count": 156,
     "metadata": {},
     "output_type": "execute_result"
    }
   ],
   "source": [
    "df.shape"
   ]
  },
  {
   "cell_type": "code",
   "execution_count": 157,
   "metadata": {},
   "outputs": [
    {
     "name": "stdout",
     "output_type": "stream",
     "text": [
      "<class 'pandas.core.frame.DataFrame'>\n",
      "RangeIndex: 10000 entries, 0 to 9999\n",
      "Data columns (total 3 columns):\n",
      " #   Column  Non-Null Count  Dtype  \n",
      "---  ------  --------------  -----  \n",
      " 0   Gender  10000 non-null  object \n",
      " 1   Height  10000 non-null  float64\n",
      " 2   Weight  10000 non-null  float64\n",
      "dtypes: float64(2), object(1)\n",
      "memory usage: 234.5+ KB\n"
     ]
    }
   ],
   "source": [
    "df.info()"
   ]
  },
  {
   "cell_type": "code",
   "execution_count": 158,
   "metadata": {},
   "outputs": [
    {
     "data": {
      "text/html": [
       "<div>\n",
       "<style scoped>\n",
       "    .dataframe tbody tr th:only-of-type {\n",
       "        vertical-align: middle;\n",
       "    }\n",
       "\n",
       "    .dataframe tbody tr th {\n",
       "        vertical-align: top;\n",
       "    }\n",
       "\n",
       "    .dataframe thead th {\n",
       "        text-align: right;\n",
       "    }\n",
       "</style>\n",
       "<table border=\"1\" class=\"dataframe\">\n",
       "  <thead>\n",
       "    <tr style=\"text-align: right;\">\n",
       "      <th></th>\n",
       "      <th>Height</th>\n",
       "      <th>Weight</th>\n",
       "    </tr>\n",
       "  </thead>\n",
       "  <tbody>\n",
       "    <tr>\n",
       "      <th>count</th>\n",
       "      <td>10000.000000</td>\n",
       "      <td>10000.000000</td>\n",
       "    </tr>\n",
       "    <tr>\n",
       "      <th>mean</th>\n",
       "      <td>66.367560</td>\n",
       "      <td>161.440357</td>\n",
       "    </tr>\n",
       "    <tr>\n",
       "      <th>std</th>\n",
       "      <td>3.847528</td>\n",
       "      <td>32.108439</td>\n",
       "    </tr>\n",
       "    <tr>\n",
       "      <th>min</th>\n",
       "      <td>54.263133</td>\n",
       "      <td>64.700127</td>\n",
       "    </tr>\n",
       "    <tr>\n",
       "      <th>25%</th>\n",
       "      <td>63.505620</td>\n",
       "      <td>135.818051</td>\n",
       "    </tr>\n",
       "    <tr>\n",
       "      <th>50%</th>\n",
       "      <td>66.318070</td>\n",
       "      <td>161.212928</td>\n",
       "    </tr>\n",
       "    <tr>\n",
       "      <th>75%</th>\n",
       "      <td>69.174262</td>\n",
       "      <td>187.169525</td>\n",
       "    </tr>\n",
       "    <tr>\n",
       "      <th>max</th>\n",
       "      <td>78.998742</td>\n",
       "      <td>269.989699</td>\n",
       "    </tr>\n",
       "  </tbody>\n",
       "</table>\n",
       "</div>"
      ],
      "text/plain": [
       "             Height        Weight\n",
       "count  10000.000000  10000.000000\n",
       "mean      66.367560    161.440357\n",
       "std        3.847528     32.108439\n",
       "min       54.263133     64.700127\n",
       "25%       63.505620    135.818051\n",
       "50%       66.318070    161.212928\n",
       "75%       69.174262    187.169525\n",
       "max       78.998742    269.989699"
      ]
     },
     "execution_count": 158,
     "metadata": {},
     "output_type": "execute_result"
    }
   ],
   "source": [
    "df.describe()"
   ]
  },
  {
   "cell_type": "code",
   "execution_count": 159,
   "metadata": {},
   "outputs": [
    {
     "data": {
      "text/html": [
       "<div>\n",
       "<style scoped>\n",
       "    .dataframe tbody tr th:only-of-type {\n",
       "        vertical-align: middle;\n",
       "    }\n",
       "\n",
       "    .dataframe tbody tr th {\n",
       "        vertical-align: top;\n",
       "    }\n",
       "\n",
       "    .dataframe thead th {\n",
       "        text-align: right;\n",
       "    }\n",
       "</style>\n",
       "<table border=\"1\" class=\"dataframe\">\n",
       "  <thead>\n",
       "    <tr style=\"text-align: right;\">\n",
       "      <th></th>\n",
       "      <th>Height</th>\n",
       "      <th>Weight</th>\n",
       "    </tr>\n",
       "  </thead>\n",
       "  <tbody>\n",
       "    <tr>\n",
       "      <th>count</th>\n",
       "      <td>2.000000</td>\n",
       "      <td>2.000000</td>\n",
       "    </tr>\n",
       "    <tr>\n",
       "      <th>mean</th>\n",
       "      <td>0.962378</td>\n",
       "      <td>0.962378</td>\n",
       "    </tr>\n",
       "    <tr>\n",
       "      <th>std</th>\n",
       "      <td>0.053205</td>\n",
       "      <td>0.053205</td>\n",
       "    </tr>\n",
       "    <tr>\n",
       "      <th>min</th>\n",
       "      <td>0.924756</td>\n",
       "      <td>0.924756</td>\n",
       "    </tr>\n",
       "    <tr>\n",
       "      <th>25%</th>\n",
       "      <td>0.943567</td>\n",
       "      <td>0.943567</td>\n",
       "    </tr>\n",
       "    <tr>\n",
       "      <th>50%</th>\n",
       "      <td>0.962378</td>\n",
       "      <td>0.962378</td>\n",
       "    </tr>\n",
       "    <tr>\n",
       "      <th>75%</th>\n",
       "      <td>0.981189</td>\n",
       "      <td>0.981189</td>\n",
       "    </tr>\n",
       "    <tr>\n",
       "      <th>max</th>\n",
       "      <td>1.000000</td>\n",
       "      <td>1.000000</td>\n",
       "    </tr>\n",
       "  </tbody>\n",
       "</table>\n",
       "</div>"
      ],
      "text/plain": [
       "         Height    Weight\n",
       "count  2.000000  2.000000\n",
       "mean   0.962378  0.962378\n",
       "std    0.053205  0.053205\n",
       "min    0.924756  0.924756\n",
       "25%    0.943567  0.943567\n",
       "50%    0.962378  0.962378\n",
       "75%    0.981189  0.981189\n",
       "max    1.000000  1.000000"
      ]
     },
     "execution_count": 159,
     "metadata": {},
     "output_type": "execute_result"
    }
   ],
   "source": [
    "df.corr().describe()"
   ]
  },
  {
   "cell_type": "code",
   "execution_count": 160,
   "metadata": {},
   "outputs": [
    {
     "data": {
      "text/plain": [
       "Gender     object\n",
       "Height    float64\n",
       "Weight    float64\n",
       "dtype: object"
      ]
     },
     "execution_count": 160,
     "metadata": {},
     "output_type": "execute_result"
    }
   ],
   "source": [
    "df.dtypes"
   ]
  },
  {
   "cell_type": "code",
   "execution_count": 161,
   "metadata": {},
   "outputs": [
    {
     "name": "stderr",
     "output_type": "stream",
     "text": [
      "C:\\Users\\Md Asif Ikbal\\anaconda3\\lib\\site-packages\\ipykernel_launcher.py:1: FutureWarning: Dropping of nuisance columns in DataFrame reductions (with 'numeric_only=None') is deprecated; in a future version this will raise TypeError.  Select only valid columns before calling the reduction.\n",
      "  \"\"\"Entry point for launching an IPython kernel.\n"
     ]
    },
    {
     "data": {
      "text/plain": [
       "Height     66.367560\n",
       "Weight    161.440357\n",
       "dtype: float64"
      ]
     },
     "execution_count": 161,
     "metadata": {},
     "output_type": "execute_result"
    }
   ],
   "source": [
    "df.mean()"
   ]
  },
  {
   "cell_type": "code",
   "execution_count": 162,
   "metadata": {},
   "outputs": [
    {
     "data": {
      "text/plain": [
       "Gender       Female\n",
       "Height    54.263133\n",
       "Weight    64.700127\n",
       "dtype: object"
      ]
     },
     "execution_count": 162,
     "metadata": {},
     "output_type": "execute_result"
    }
   ],
   "source": [
    "df.min()"
   ]
  },
  {
   "cell_type": "code",
   "execution_count": 163,
   "metadata": {},
   "outputs": [
    {
     "data": {
      "text/plain": [
       "Gender          Male\n",
       "Height     78.998742\n",
       "Weight    269.989699\n",
       "dtype: object"
      ]
     },
     "execution_count": 163,
     "metadata": {},
     "output_type": "execute_result"
    }
   ],
   "source": [
    "df.max()"
   ]
  },
  {
   "cell_type": "code",
   "execution_count": 164,
   "metadata": {},
   "outputs": [],
   "source": [
    "from sklearn.preprocessing import LabelEncoder"
   ]
  },
  {
   "cell_type": "code",
   "execution_count": 165,
   "metadata": {},
   "outputs": [],
   "source": [
    "la=LabelEncoder()"
   ]
  },
  {
   "cell_type": "code",
   "execution_count": 166,
   "metadata": {},
   "outputs": [],
   "source": [
    "df['Gender']=la.fit_transform(df['Gender'])"
   ]
  },
  {
   "cell_type": "code",
   "execution_count": 167,
   "metadata": {},
   "outputs": [
    {
     "data": {
      "text/html": [
       "<div>\n",
       "<style scoped>\n",
       "    .dataframe tbody tr th:only-of-type {\n",
       "        vertical-align: middle;\n",
       "    }\n",
       "\n",
       "    .dataframe tbody tr th {\n",
       "        vertical-align: top;\n",
       "    }\n",
       "\n",
       "    .dataframe thead th {\n",
       "        text-align: right;\n",
       "    }\n",
       "</style>\n",
       "<table border=\"1\" class=\"dataframe\">\n",
       "  <thead>\n",
       "    <tr style=\"text-align: right;\">\n",
       "      <th></th>\n",
       "      <th>Gender</th>\n",
       "      <th>Height</th>\n",
       "      <th>Weight</th>\n",
       "    </tr>\n",
       "  </thead>\n",
       "  <tbody>\n",
       "    <tr>\n",
       "      <th>0</th>\n",
       "      <td>1</td>\n",
       "      <td>73.847017</td>\n",
       "      <td>241.893563</td>\n",
       "    </tr>\n",
       "    <tr>\n",
       "      <th>1</th>\n",
       "      <td>1</td>\n",
       "      <td>68.781904</td>\n",
       "      <td>162.310473</td>\n",
       "    </tr>\n",
       "    <tr>\n",
       "      <th>2</th>\n",
       "      <td>1</td>\n",
       "      <td>74.110105</td>\n",
       "      <td>212.740856</td>\n",
       "    </tr>\n",
       "    <tr>\n",
       "      <th>3</th>\n",
       "      <td>1</td>\n",
       "      <td>71.730978</td>\n",
       "      <td>220.042470</td>\n",
       "    </tr>\n",
       "    <tr>\n",
       "      <th>4</th>\n",
       "      <td>1</td>\n",
       "      <td>69.881796</td>\n",
       "      <td>206.349801</td>\n",
       "    </tr>\n",
       "    <tr>\n",
       "      <th>...</th>\n",
       "      <td>...</td>\n",
       "      <td>...</td>\n",
       "      <td>...</td>\n",
       "    </tr>\n",
       "    <tr>\n",
       "      <th>9995</th>\n",
       "      <td>0</td>\n",
       "      <td>66.172652</td>\n",
       "      <td>136.777454</td>\n",
       "    </tr>\n",
       "    <tr>\n",
       "      <th>9996</th>\n",
       "      <td>0</td>\n",
       "      <td>67.067155</td>\n",
       "      <td>170.867906</td>\n",
       "    </tr>\n",
       "    <tr>\n",
       "      <th>9997</th>\n",
       "      <td>0</td>\n",
       "      <td>63.867992</td>\n",
       "      <td>128.475319</td>\n",
       "    </tr>\n",
       "    <tr>\n",
       "      <th>9998</th>\n",
       "      <td>0</td>\n",
       "      <td>69.034243</td>\n",
       "      <td>163.852461</td>\n",
       "    </tr>\n",
       "    <tr>\n",
       "      <th>9999</th>\n",
       "      <td>0</td>\n",
       "      <td>61.944246</td>\n",
       "      <td>113.649103</td>\n",
       "    </tr>\n",
       "  </tbody>\n",
       "</table>\n",
       "<p>10000 rows × 3 columns</p>\n",
       "</div>"
      ],
      "text/plain": [
       "      Gender     Height      Weight\n",
       "0          1  73.847017  241.893563\n",
       "1          1  68.781904  162.310473\n",
       "2          1  74.110105  212.740856\n",
       "3          1  71.730978  220.042470\n",
       "4          1  69.881796  206.349801\n",
       "...      ...        ...         ...\n",
       "9995       0  66.172652  136.777454\n",
       "9996       0  67.067155  170.867906\n",
       "9997       0  63.867992  128.475319\n",
       "9998       0  69.034243  163.852461\n",
       "9999       0  61.944246  113.649103\n",
       "\n",
       "[10000 rows x 3 columns]"
      ]
     },
     "execution_count": 167,
     "metadata": {},
     "output_type": "execute_result"
    }
   ],
   "source": [
    "df"
   ]
  },
  {
   "cell_type": "code",
   "execution_count": 168,
   "metadata": {},
   "outputs": [],
   "source": [
    "from PIL import Image"
   ]
  },
  {
   "cell_type": "code",
   "execution_count": null,
   "metadata": {},
   "outputs": [],
   "source": []
  },
  {
   "cell_type": "code",
   "execution_count": null,
   "metadata": {},
   "outputs": [],
   "source": []
  },
  {
   "cell_type": "code",
   "execution_count": 169,
   "metadata": {},
   "outputs": [
    {
     "data": {
      "text/plain": [
       "<matplotlib.axes._subplots.AxesSubplot at 0x240bbb38788>"
      ]
     },
     "execution_count": 169,
     "metadata": {},
     "output_type": "execute_result"
    },
    {
     "data": {
      "image/png": "[encoded data removed]",
      "text/plain": [
       "<Figure size 432x288 with 1 Axes>"
      ]
     },
     "metadata": {
      "needs_background": "light"
     },
     "output_type": "display_data"
    }
   ],
   "source": [
    "sns.distplot(df['Weight'],color='red')"
   ]
  },
  {
   "cell_type": "code",
   "execution_count": 170,
   "metadata": {},
   "outputs": [
    {
     "data": {
      "text/plain": [
       "161.44035683283076"
      ]
     },
     "execution_count": 170,
     "metadata": {},
     "output_type": "execute_result"
    }
   ],
   "source": [
    "mean_value_weight=df['Weight'].mean()\n",
    "mean_value_weight"
   ]
  },
  {
   "cell_type": "code",
   "execution_count": 171,
   "metadata": {},
   "outputs": [
    {
     "data": {
      "text/plain": [
       "66.36755975482106"
      ]
     },
     "execution_count": 171,
     "metadata": {},
     "output_type": "execute_result"
    }
   ],
   "source": [
    "mean_value_Height=df['Height'].mean()\n",
    "mean_value_Height"
   ]
  },
  {
   "cell_type": "code",
   "execution_count": 172,
   "metadata": {},
   "outputs": [
    {
     "data": {
      "text/plain": [
       "32.108439006519546"
      ]
     },
     "execution_count": 172,
     "metadata": {},
     "output_type": "execute_result"
    }
   ],
   "source": [
    "std_value_weight=df['Weight'].std()\n",
    "std_value_weight"
   ]
  },
  {
   "cell_type": "code",
   "execution_count": 173,
   "metadata": {},
   "outputs": [
    {
     "data": {
      "text/plain": [
       "3.8475281207732324"
      ]
     },
     "execution_count": 173,
     "metadata": {},
     "output_type": "execute_result"
    }
   ],
   "source": [
    "std_value_height=df['Height'].std()\n",
    "std_value_height"
   ]
  },
  {
   "cell_type": "code",
   "execution_count": 174,
   "metadata": {},
   "outputs": [
    {
     "data": {
      "text/plain": [
       "257.7656738523894"
      ]
     },
     "execution_count": 174,
     "metadata": {},
     "output_type": "execute_result"
    }
   ],
   "source": [
    "std_3_weight=mean_value_weight+(3*std_value_weight)\n",
    "std_3_weight"
   ]
  },
  {
   "cell_type": "code",
   "execution_count": 175,
   "metadata": {},
   "outputs": [
    {
     "data": {
      "text/plain": [
       "-611.8566647243374"
      ]
     },
     "execution_count": 175,
     "metadata": {},
     "output_type": "execute_result"
    }
   ],
   "source": [
    "std_3_weight2=mean_value_weight-(3*std_3_weight)\n",
    "std_3_weight2"
   ]
  },
  {
   "cell_type": "code",
   "execution_count": 176,
   "metadata": {},
   "outputs": [
    {
     "data": {
      "text/plain": [
       "172.98294119515046"
      ]
     },
     "execution_count": 176,
     "metadata": {},
     "output_type": "execute_result"
    }
   ],
   "source": [
    "std_3_height=mean_value_weight+(3*std_value_height)\n",
    "std_3_height"
   ]
  },
  {
   "cell_type": "code",
   "execution_count": 177,
   "metadata": {},
   "outputs": [
    {
     "data": {
      "text/plain": [
       "-452.5812638306303"
      ]
     },
     "execution_count": 177,
     "metadata": {},
     "output_type": "execute_result"
    }
   ],
   "source": [
    "std_3_height2=mean_value_Height-(3*std_3_height)\n",
    "std_3_height2"
   ]
  },
  {
   "cell_type": "code",
   "execution_count": 178,
   "metadata": {},
   "outputs": [
    {
     "data": {
      "text/html": [
       "<div>\n",
       "<style scoped>\n",
       "    .dataframe tbody tr th:only-of-type {\n",
       "        vertical-align: middle;\n",
       "    }\n",
       "\n",
       "    .dataframe tbody tr th {\n",
       "        vertical-align: top;\n",
       "    }\n",
       "\n",
       "    .dataframe thead th {\n",
       "        text-align: right;\n",
       "    }\n",
       "</style>\n",
       "<table border=\"1\" class=\"dataframe\">\n",
       "  <thead>\n",
       "    <tr style=\"text-align: right;\">\n",
       "      <th></th>\n",
       "      <th>Gender</th>\n",
       "      <th>Height</th>\n",
       "      <th>Weight</th>\n",
       "    </tr>\n",
       "  </thead>\n",
       "  <tbody>\n",
       "    <tr>\n",
       "      <th>2014</th>\n",
       "      <td>1</td>\n",
       "      <td>78.998742</td>\n",
       "      <td>269.989699</td>\n",
       "    </tr>\n",
       "  </tbody>\n",
       "</table>\n",
       "</div>"
      ],
      "text/plain": [
       "      Gender     Height      Weight\n",
       "2014       1  78.998742  269.989699"
      ]
     },
     "execution_count": 178,
     "metadata": {},
     "output_type": "execute_result"
    }
   ],
   "source": [
    "df[df['Weight']>std_3_weight]"
   ]
  },
  {
   "cell_type": "code",
   "execution_count": 179,
   "metadata": {},
   "outputs": [
    {
     "data": {
      "text/html": [
       "<div>\n",
       "<style scoped>\n",
       "    .dataframe tbody tr th:only-of-type {\n",
       "        vertical-align: middle;\n",
       "    }\n",
       "\n",
       "    .dataframe tbody tr th {\n",
       "        vertical-align: top;\n",
       "    }\n",
       "\n",
       "    .dataframe thead th {\n",
       "        text-align: right;\n",
       "    }\n",
       "</style>\n",
       "<table border=\"1\" class=\"dataframe\">\n",
       "  <thead>\n",
       "    <tr style=\"text-align: right;\">\n",
       "      <th></th>\n",
       "      <th>Gender</th>\n",
       "      <th>Height</th>\n",
       "      <th>Weight</th>\n",
       "    </tr>\n",
       "  </thead>\n",
       "  <tbody>\n",
       "    <tr>\n",
       "      <th>0</th>\n",
       "      <td>1</td>\n",
       "      <td>73.847017</td>\n",
       "      <td>241.893563</td>\n",
       "    </tr>\n",
       "    <tr>\n",
       "      <th>1</th>\n",
       "      <td>1</td>\n",
       "      <td>68.781904</td>\n",
       "      <td>162.310473</td>\n",
       "    </tr>\n",
       "    <tr>\n",
       "      <th>2</th>\n",
       "      <td>1</td>\n",
       "      <td>74.110105</td>\n",
       "      <td>212.740856</td>\n",
       "    </tr>\n",
       "    <tr>\n",
       "      <th>3</th>\n",
       "      <td>1</td>\n",
       "      <td>71.730978</td>\n",
       "      <td>220.042470</td>\n",
       "    </tr>\n",
       "    <tr>\n",
       "      <th>4</th>\n",
       "      <td>1</td>\n",
       "      <td>69.881796</td>\n",
       "      <td>206.349801</td>\n",
       "    </tr>\n",
       "    <tr>\n",
       "      <th>...</th>\n",
       "      <td>...</td>\n",
       "      <td>...</td>\n",
       "      <td>...</td>\n",
       "    </tr>\n",
       "    <tr>\n",
       "      <th>9995</th>\n",
       "      <td>0</td>\n",
       "      <td>66.172652</td>\n",
       "      <td>136.777454</td>\n",
       "    </tr>\n",
       "    <tr>\n",
       "      <th>9996</th>\n",
       "      <td>0</td>\n",
       "      <td>67.067155</td>\n",
       "      <td>170.867906</td>\n",
       "    </tr>\n",
       "    <tr>\n",
       "      <th>9997</th>\n",
       "      <td>0</td>\n",
       "      <td>63.867992</td>\n",
       "      <td>128.475319</td>\n",
       "    </tr>\n",
       "    <tr>\n",
       "      <th>9998</th>\n",
       "      <td>0</td>\n",
       "      <td>69.034243</td>\n",
       "      <td>163.852461</td>\n",
       "    </tr>\n",
       "    <tr>\n",
       "      <th>9999</th>\n",
       "      <td>0</td>\n",
       "      <td>61.944246</td>\n",
       "      <td>113.649103</td>\n",
       "    </tr>\n",
       "  </tbody>\n",
       "</table>\n",
       "<p>9999 rows × 3 columns</p>\n",
       "</div>"
      ],
      "text/plain": [
       "      Gender     Height      Weight\n",
       "0          1  73.847017  241.893563\n",
       "1          1  68.781904  162.310473\n",
       "2          1  74.110105  212.740856\n",
       "3          1  71.730978  220.042470\n",
       "4          1  69.881796  206.349801\n",
       "...      ...        ...         ...\n",
       "9995       0  66.172652  136.777454\n",
       "9996       0  67.067155  170.867906\n",
       "9997       0  63.867992  128.475319\n",
       "9998       0  69.034243  163.852461\n",
       "9999       0  61.944246  113.649103\n",
       "\n",
       "[9999 rows x 3 columns]"
      ]
     },
     "execution_count": 179,
     "metadata": {},
     "output_type": "execute_result"
    }
   ],
   "source": [
    "df[df['Weight']<std_3_weight]"
   ]
  },
  {
   "cell_type": "code",
   "execution_count": 180,
   "metadata": {},
   "outputs": [
    {
     "data": {
      "text/html": [
       "<div>\n",
       "<style scoped>\n",
       "    .dataframe tbody tr th:only-of-type {\n",
       "        vertical-align: middle;\n",
       "    }\n",
       "\n",
       "    .dataframe tbody tr th {\n",
       "        vertical-align: top;\n",
       "    }\n",
       "\n",
       "    .dataframe thead th {\n",
       "        text-align: right;\n",
       "    }\n",
       "</style>\n",
       "<table border=\"1\" class=\"dataframe\">\n",
       "  <thead>\n",
       "    <tr style=\"text-align: right;\">\n",
       "      <th></th>\n",
       "      <th>Gender</th>\n",
       "      <th>Height</th>\n",
       "      <th>Weight</th>\n",
       "    </tr>\n",
       "  </thead>\n",
       "  <tbody>\n",
       "  </tbody>\n",
       "</table>\n",
       "</div>"
      ],
      "text/plain": [
       "Empty DataFrame\n",
       "Columns: [Gender, Height, Weight]\n",
       "Index: []"
      ]
     },
     "execution_count": 180,
     "metadata": {},
     "output_type": "execute_result"
    }
   ],
   "source": [
    "df[df['Height']>std_3_height]"
   ]
  },
  {
   "cell_type": "code",
   "execution_count": 181,
   "metadata": {},
   "outputs": [
    {
     "data": {
      "text/html": [
       "<div>\n",
       "<style scoped>\n",
       "    .dataframe tbody tr th:only-of-type {\n",
       "        vertical-align: middle;\n",
       "    }\n",
       "\n",
       "    .dataframe tbody tr th {\n",
       "        vertical-align: top;\n",
       "    }\n",
       "\n",
       "    .dataframe thead th {\n",
       "        text-align: right;\n",
       "    }\n",
       "</style>\n",
       "<table border=\"1\" class=\"dataframe\">\n",
       "  <thead>\n",
       "    <tr style=\"text-align: right;\">\n",
       "      <th></th>\n",
       "      <th>Gender</th>\n",
       "      <th>Height</th>\n",
       "      <th>Weight</th>\n",
       "    </tr>\n",
       "  </thead>\n",
       "  <tbody>\n",
       "    <tr>\n",
       "      <th>0</th>\n",
       "      <td>1</td>\n",
       "      <td>73.847017</td>\n",
       "      <td>241.893563</td>\n",
       "    </tr>\n",
       "    <tr>\n",
       "      <th>1</th>\n",
       "      <td>1</td>\n",
       "      <td>68.781904</td>\n",
       "      <td>162.310473</td>\n",
       "    </tr>\n",
       "    <tr>\n",
       "      <th>2</th>\n",
       "      <td>1</td>\n",
       "      <td>74.110105</td>\n",
       "      <td>212.740856</td>\n",
       "    </tr>\n",
       "    <tr>\n",
       "      <th>3</th>\n",
       "      <td>1</td>\n",
       "      <td>71.730978</td>\n",
       "      <td>220.042470</td>\n",
       "    </tr>\n",
       "    <tr>\n",
       "      <th>4</th>\n",
       "      <td>1</td>\n",
       "      <td>69.881796</td>\n",
       "      <td>206.349801</td>\n",
       "    </tr>\n",
       "    <tr>\n",
       "      <th>...</th>\n",
       "      <td>...</td>\n",
       "      <td>...</td>\n",
       "      <td>...</td>\n",
       "    </tr>\n",
       "    <tr>\n",
       "      <th>9995</th>\n",
       "      <td>0</td>\n",
       "      <td>66.172652</td>\n",
       "      <td>136.777454</td>\n",
       "    </tr>\n",
       "    <tr>\n",
       "      <th>9996</th>\n",
       "      <td>0</td>\n",
       "      <td>67.067155</td>\n",
       "      <td>170.867906</td>\n",
       "    </tr>\n",
       "    <tr>\n",
       "      <th>9997</th>\n",
       "      <td>0</td>\n",
       "      <td>63.867992</td>\n",
       "      <td>128.475319</td>\n",
       "    </tr>\n",
       "    <tr>\n",
       "      <th>9998</th>\n",
       "      <td>0</td>\n",
       "      <td>69.034243</td>\n",
       "      <td>163.852461</td>\n",
       "    </tr>\n",
       "    <tr>\n",
       "      <th>9999</th>\n",
       "      <td>0</td>\n",
       "      <td>61.944246</td>\n",
       "      <td>113.649103</td>\n",
       "    </tr>\n",
       "  </tbody>\n",
       "</table>\n",
       "<p>10000 rows × 3 columns</p>\n",
       "</div>"
      ],
      "text/plain": [
       "      Gender     Height      Weight\n",
       "0          1  73.847017  241.893563\n",
       "1          1  68.781904  162.310473\n",
       "2          1  74.110105  212.740856\n",
       "3          1  71.730978  220.042470\n",
       "4          1  69.881796  206.349801\n",
       "...      ...        ...         ...\n",
       "9995       0  66.172652  136.777454\n",
       "9996       0  67.067155  170.867906\n",
       "9997       0  63.867992  128.475319\n",
       "9998       0  69.034243  163.852461\n",
       "9999       0  61.944246  113.649103\n",
       "\n",
       "[10000 rows x 3 columns]"
      ]
     },
     "execution_count": 181,
     "metadata": {},
     "output_type": "execute_result"
    }
   ],
   "source": [
    "df[df['Height']<std_3_height]"
   ]
  },
  {
   "cell_type": "code",
   "execution_count": 182,
   "metadata": {},
   "outputs": [],
   "source": [
    "marge1=df[(df['Weight']>std_3_weight) | (df['Weight']<std_3_weight)]"
   ]
  },
  {
   "cell_type": "code",
   "execution_count": 183,
   "metadata": {},
   "outputs": [],
   "source": [
    "marge2=df[(df['Height']>std_3_height)| (df['Height']<std_3_height)]"
   ]
  },
  {
   "cell_type": "code",
   "execution_count": 184,
   "metadata": {},
   "outputs": [],
   "source": [
    "remove_marge1=df[(df['Weight']>std_3_weight) & (df['Weight']<std_3_weight)]"
   ]
  },
  {
   "cell_type": "code",
   "execution_count": 185,
   "metadata": {},
   "outputs": [],
   "source": [
    "remove_marge2=df[(df['Height']>std_3_height)| (df['Height']<std_3_height)]"
   ]
  },
  {
   "cell_type": "code",
   "execution_count": 186,
   "metadata": {},
   "outputs": [
    {
     "data": {
      "text/html": [
       "<div>\n",
       "<style scoped>\n",
       "    .dataframe tbody tr th:only-of-type {\n",
       "        vertical-align: middle;\n",
       "    }\n",
       "\n",
       "    .dataframe tbody tr th {\n",
       "        vertical-align: top;\n",
       "    }\n",
       "\n",
       "    .dataframe thead th {\n",
       "        text-align: right;\n",
       "    }\n",
       "</style>\n",
       "<table border=\"1\" class=\"dataframe\">\n",
       "  <thead>\n",
       "    <tr style=\"text-align: right;\">\n",
       "      <th></th>\n",
       "      <th>Gender</th>\n",
       "      <th>Height</th>\n",
       "      <th>Weight</th>\n",
       "    </tr>\n",
       "  </thead>\n",
       "  <tbody>\n",
       "    <tr>\n",
       "      <th>0</th>\n",
       "      <td>1</td>\n",
       "      <td>73.847017</td>\n",
       "      <td>241.893563</td>\n",
       "    </tr>\n",
       "    <tr>\n",
       "      <th>1</th>\n",
       "      <td>1</td>\n",
       "      <td>68.781904</td>\n",
       "      <td>162.310473</td>\n",
       "    </tr>\n",
       "    <tr>\n",
       "      <th>2</th>\n",
       "      <td>1</td>\n",
       "      <td>74.110105</td>\n",
       "      <td>212.740856</td>\n",
       "    </tr>\n",
       "    <tr>\n",
       "      <th>3</th>\n",
       "      <td>1</td>\n",
       "      <td>71.730978</td>\n",
       "      <td>220.042470</td>\n",
       "    </tr>\n",
       "    <tr>\n",
       "      <th>4</th>\n",
       "      <td>1</td>\n",
       "      <td>69.881796</td>\n",
       "      <td>206.349801</td>\n",
       "    </tr>\n",
       "  </tbody>\n",
       "</table>\n",
       "</div>"
      ],
      "text/plain": [
       "   Gender     Height      Weight\n",
       "0       1  73.847017  241.893563\n",
       "1       1  68.781904  162.310473\n",
       "2       1  74.110105  212.740856\n",
       "3       1  71.730978  220.042470\n",
       "4       1  69.881796  206.349801"
      ]
     },
     "execution_count": 186,
     "metadata": {},
     "output_type": "execute_result"
    }
   ],
   "source": [
    "df.head()"
   ]
  },
  {
   "cell_type": "code",
   "execution_count": 187,
   "metadata": {},
   "outputs": [],
   "source": [
    "x=df.drop(['Height'],axis='columns')"
   ]
  },
  {
   "cell_type": "code",
   "execution_count": 188,
   "metadata": {},
   "outputs": [],
   "source": [
    "y=df.Height.values"
   ]
  },
  {
   "cell_type": "code",
   "execution_count": 189,
   "metadata": {},
   "outputs": [],
   "source": [
    "xtrain,xtest,ytrain,ytest=train_test_split(x,y,test_size=0.3,random_state=42)"
   ]
  },
  {
   "cell_type": "code",
   "execution_count": 191,
   "metadata": {},
   "outputs": [
    {
     "data": {
      "text/plain": [
       "LinearRegression(copy_X=True, fit_intercept=True, n_jobs=None, normalize=False)"
      ]
     },
     "execution_count": 191,
     "metadata": {},
     "output_type": "execute_result"
    }
   ],
   "source": [
    "li=LinearRegression()\n",
    "li.fit(xtrain,ytrain)"
   ]
  },
  {
   "cell_type": "code",
   "execution_count": 194,
   "metadata": {},
   "outputs": [
    {
     "data": {
      "text/plain": [
       "86.25474859410481"
      ]
     },
     "execution_count": 194,
     "metadata": {},
     "output_type": "execute_result"
    }
   ],
   "source": [
    "li.score(xtest,ytest)*100"
   ]
  },
  {
   "cell_type": "code",
   "execution_count": 195,
   "metadata": {},
   "outputs": [
    {
     "data": {
      "text/plain": [
       "array([68.29999065, 70.02580832, 66.95046961, ..., 68.36300193,\n",
       "       64.01773062, 69.64496365])"
      ]
     },
     "execution_count": 195,
     "metadata": {},
     "output_type": "execute_result"
    }
   ],
   "source": [
    "li.predict(xtest)"
   ]
  },
  {
   "cell_type": "code",
   "execution_count": 196,
   "metadata": {},
   "outputs": [],
   "source": [
    "from sklearn.metrics import mean_squared_error,r2_score"
   ]
  },
  {
   "cell_type": "code",
   "execution_count": 197,
   "metadata": {},
   "outputs": [],
   "source": [
    "pred=li.predict(xtest)"
   ]
  },
  {
   "cell_type": "code",
   "execution_count": 198,
   "metadata": {},
   "outputs": [
    {
     "data": {
      "text/plain": [
       "2.0380864148286113"
      ]
     },
     "execution_count": 198,
     "metadata": {},
     "output_type": "execute_result"
    }
   ],
   "source": [
    "mean_squared_error(ytest,pred)"
   ]
  },
  {
   "cell_type": "code",
   "execution_count": 199,
   "metadata": {},
   "outputs": [
    {
     "data": {
      "text/plain": [
       "0.8625474859410482"
      ]
     },
     "execution_count": 199,
     "metadata": {},
     "output_type": "execute_result"
    }
   ],
   "source": [
    "r2_score(ytest,pred)"
   ]
  },
  {
   "cell_type": "code",
   "execution_count": 213,
   "metadata": {},
   "outputs": [],
   "source": [
    "from sklearn.neighbors import KNeighborsRegressor"
   ]
  },
  {
   "cell_type": "code",
   "execution_count": 214,
   "metadata": {},
   "outputs": [],
   "source": [
    "knn=KNeighborsRegressor(n_neighbors=100)"
   ]
  },
  {
   "cell_type": "code",
   "execution_count": 215,
   "metadata": {},
   "outputs": [
    {
     "data": {
      "text/plain": [
       "KNeighborsRegressor(algorithm='auto', leaf_size=30, metric='minkowski',\n",
       "                    metric_params=None, n_jobs=None, n_neighbors=100, p=2,\n",
       "                    weights='uniform')"
      ]
     },
     "execution_count": 215,
     "metadata": {},
     "output_type": "execute_result"
    }
   ],
   "source": [
    "knn.fit(xtrain,ytrain)"
   ]
  },
  {
   "cell_type": "code",
   "execution_count": 218,
   "metadata": {},
   "outputs": [
    {
     "data": {
      "text/plain": [
       "85.97651075360307"
      ]
     },
     "execution_count": 218,
     "metadata": {},
     "output_type": "execute_result"
    }
   ],
   "source": [
    "knn.score(xtest,ytest)*100"
   ]
  },
  {
   "cell_type": "code",
   "execution_count": 220,
   "metadata": {},
   "outputs": [
    {
     "data": {
      "text/plain": [
       "array([67.4491368 , 69.99309539, 67.17092259, ..., 68.33650837,\n",
       "       64.00592747, 69.38385389])"
      ]
     },
     "execution_count": 220,
     "metadata": {},
     "output_type": "execute_result"
    }
   ],
   "source": [
    "pred2=knn.predict(xtest)\n",
    "pred2"
   ]
  },
  {
   "cell_type": "code",
   "execution_count": 221,
   "metadata": {},
   "outputs": [
    {
     "data": {
      "text/plain": [
       "2.079342318127307"
      ]
     },
     "execution_count": 221,
     "metadata": {},
     "output_type": "execute_result"
    }
   ],
   "source": [
    "mean_squared_error(ytest,pred2)"
   ]
  },
  {
   "cell_type": "code",
   "execution_count": 222,
   "metadata": {},
   "outputs": [
    {
     "data": {
      "text/plain": [
       "0.8597651075360307"
      ]
     },
     "execution_count": 222,
     "metadata": {},
     "output_type": "execute_result"
    }
   ],
   "source": [
    "r2_score(ytest,pred2)"
   ]
  },
  {
   "cell_type": "code",
   "execution_count": 223,
   "metadata": {},
   "outputs": [
    {
     "data": {
      "text/html": [
       "<div>\n",
       "<style scoped>\n",
       "    .dataframe tbody tr th:only-of-type {\n",
       "        vertical-align: middle;\n",
       "    }\n",
       "\n",
       "    .dataframe tbody tr th {\n",
       "        vertical-align: top;\n",
       "    }\n",
       "\n",
       "    .dataframe thead th {\n",
       "        text-align: right;\n",
       "    }\n",
       "</style>\n",
       "<table border=\"1\" class=\"dataframe\">\n",
       "  <thead>\n",
       "    <tr style=\"text-align: right;\">\n",
       "      <th></th>\n",
       "      <th>Gender</th>\n",
       "      <th>Height</th>\n",
       "      <th>Weight</th>\n",
       "    </tr>\n",
       "  </thead>\n",
       "  <tbody>\n",
       "    <tr>\n",
       "      <th>0</th>\n",
       "      <td>1</td>\n",
       "      <td>73.847017</td>\n",
       "      <td>241.893563</td>\n",
       "    </tr>\n",
       "    <tr>\n",
       "      <th>1</th>\n",
       "      <td>1</td>\n",
       "      <td>68.781904</td>\n",
       "      <td>162.310473</td>\n",
       "    </tr>\n",
       "    <tr>\n",
       "      <th>2</th>\n",
       "      <td>1</td>\n",
       "      <td>74.110105</td>\n",
       "      <td>212.740856</td>\n",
       "    </tr>\n",
       "    <tr>\n",
       "      <th>3</th>\n",
       "      <td>1</td>\n",
       "      <td>71.730978</td>\n",
       "      <td>220.042470</td>\n",
       "    </tr>\n",
       "    <tr>\n",
       "      <th>4</th>\n",
       "      <td>1</td>\n",
       "      <td>69.881796</td>\n",
       "      <td>206.349801</td>\n",
       "    </tr>\n",
       "  </tbody>\n",
       "</table>\n",
       "</div>"
      ],
      "text/plain": [
       "   Gender     Height      Weight\n",
       "0       1  73.847017  241.893563\n",
       "1       1  68.781904  162.310473\n",
       "2       1  74.110105  212.740856\n",
       "3       1  71.730978  220.042470\n",
       "4       1  69.881796  206.349801"
      ]
     },
     "execution_count": 223,
     "metadata": {},
     "output_type": "execute_result"
    }
   ],
   "source": [
    "df.head()"
   ]
  },
  {
   "cell_type": "code",
   "execution_count": 224,
   "metadata": {},
   "outputs": [],
   "source": [
    "from catboost import CatBoostRegressor"
   ]
  },
  {
   "cell_type": "code",
   "execution_count": 225,
   "metadata": {
    "collapsed": true
   },
   "outputs": [
    {
     "name": "stdout",
     "output_type": "stream",
     "text": [
      "Learning rate set to 0.055186\n",
      "0:\tlearn: 3.6763476\ttotal: 300ms\tremaining: 5m\n",
      "1:\tlearn: 3.5199206\ttotal: 308ms\tremaining: 2m 33s\n",
      "2:\tlearn: 3.3704461\ttotal: 316ms\tremaining: 1m 44s\n",
      "3:\tlearn: 3.2349136\ttotal: 323ms\tremaining: 1m 20s\n",
      "4:\tlearn: 3.1053613\ttotal: 329ms\tremaining: 1m 5s\n",
      "5:\tlearn: 2.9858238\ttotal: 334ms\tremaining: 55.3s\n",
      "6:\tlearn: 2.8725893\ttotal: 338ms\tremaining: 47.9s\n",
      "7:\tlearn: 2.7650938\ttotal: 341ms\tremaining: 42.3s\n",
      "8:\tlearn: 2.6634421\ttotal: 347ms\tremaining: 38.2s\n",
      "9:\tlearn: 2.5694502\ttotal: 350ms\tremaining: 34.7s\n",
      "10:\tlearn: 2.4804052\ttotal: 354ms\tremaining: 31.8s\n",
      "11:\tlearn: 2.4004059\ttotal: 357ms\tremaining: 29.4s\n",
      "12:\tlearn: 2.3242748\ttotal: 360ms\tremaining: 27.4s\n",
      "13:\tlearn: 2.2593282\ttotal: 363ms\tremaining: 25.6s\n",
      "14:\tlearn: 2.1952544\ttotal: 366ms\tremaining: 24.1s\n",
      "15:\tlearn: 2.1352648\ttotal: 370ms\tremaining: 22.7s\n",
      "16:\tlearn: 2.0791258\ttotal: 373ms\tremaining: 21.6s\n",
      "17:\tlearn: 2.0292705\ttotal: 377ms\tremaining: 20.5s\n",
      "18:\tlearn: 1.9817907\ttotal: 380ms\tremaining: 19.6s\n",
      "19:\tlearn: 1.9360990\ttotal: 383ms\tremaining: 18.8s\n",
      "20:\tlearn: 1.8938145\ttotal: 387ms\tremaining: 18s\n",
      "21:\tlearn: 1.8556907\ttotal: 390ms\tremaining: 17.3s\n",
      "22:\tlearn: 1.8220605\ttotal: 393ms\tremaining: 16.7s\n",
      "23:\tlearn: 1.7932167\ttotal: 396ms\tremaining: 16.1s\n",
      "24:\tlearn: 1.7638046\ttotal: 399ms\tremaining: 15.6s\n",
      "25:\tlearn: 1.7365219\ttotal: 403ms\tremaining: 15.1s\n",
      "26:\tlearn: 1.7125950\ttotal: 406ms\tremaining: 14.6s\n",
      "27:\tlearn: 1.6896498\ttotal: 409ms\tremaining: 14.2s\n",
      "28:\tlearn: 1.6688018\ttotal: 413ms\tremaining: 13.8s\n",
      "29:\tlearn: 1.6513771\ttotal: 416ms\tremaining: 13.4s\n",
      "30:\tlearn: 1.6336894\ttotal: 419ms\tremaining: 13.1s\n",
      "31:\tlearn: 1.6165853\ttotal: 422ms\tremaining: 12.8s\n",
      "32:\tlearn: 1.6017171\ttotal: 426ms\tremaining: 12.5s\n",
      "33:\tlearn: 1.5892124\ttotal: 429ms\tremaining: 12.2s\n",
      "34:\tlearn: 1.5756888\ttotal: 432ms\tremaining: 11.9s\n",
      "35:\tlearn: 1.5639015\ttotal: 435ms\tremaining: 11.7s\n",
      "36:\tlearn: 1.5527166\ttotal: 438ms\tremaining: 11.4s\n",
      "37:\tlearn: 1.5457464\ttotal: 441ms\tremaining: 11.2s\n",
      "38:\tlearn: 1.5366223\ttotal: 444ms\tremaining: 10.9s\n",
      "39:\tlearn: 1.5279328\ttotal: 448ms\tremaining: 10.7s\n",
      "40:\tlearn: 1.5203793\ttotal: 451ms\tremaining: 10.5s\n",
      "41:\tlearn: 1.5132190\ttotal: 454ms\tremaining: 10.4s\n",
      "42:\tlearn: 1.5069935\ttotal: 458ms\tremaining: 10.2s\n",
      "43:\tlearn: 1.5023504\ttotal: 461ms\tremaining: 10s\n",
      "44:\tlearn: 1.4977510\ttotal: 463ms\tremaining: 9.84s\n",
      "45:\tlearn: 1.4933799\ttotal: 467ms\tremaining: 9.68s\n",
      "46:\tlearn: 1.4889583\ttotal: 470ms\tremaining: 9.53s\n",
      "47:\tlearn: 1.4845149\ttotal: 474ms\tremaining: 9.39s\n",
      "48:\tlearn: 1.4807281\ttotal: 478ms\tremaining: 9.27s\n",
      "49:\tlearn: 1.4769531\ttotal: 483ms\tremaining: 9.17s\n",
      "50:\tlearn: 1.4739055\ttotal: 486ms\tremaining: 9.04s\n",
      "51:\tlearn: 1.4711831\ttotal: 489ms\tremaining: 8.92s\n",
      "52:\tlearn: 1.4691519\ttotal: 493ms\tremaining: 8.8s\n",
      "53:\tlearn: 1.4668695\ttotal: 497ms\tremaining: 8.7s\n",
      "54:\tlearn: 1.4653054\ttotal: 500ms\tremaining: 8.6s\n",
      "55:\tlearn: 1.4635907\ttotal: 504ms\tremaining: 8.5s\n",
      "56:\tlearn: 1.4619045\ttotal: 508ms\tremaining: 8.4s\n",
      "57:\tlearn: 1.4600743\ttotal: 511ms\tremaining: 8.3s\n",
      "58:\tlearn: 1.4582825\ttotal: 514ms\tremaining: 8.2s\n",
      "59:\tlearn: 1.4566080\ttotal: 518ms\tremaining: 8.11s\n",
      "60:\tlearn: 1.4551632\ttotal: 521ms\tremaining: 8.03s\n",
      "61:\tlearn: 1.4541475\ttotal: 525ms\tremaining: 7.94s\n",
      "62:\tlearn: 1.4530240\ttotal: 528ms\tremaining: 7.85s\n",
      "63:\tlearn: 1.4519075\ttotal: 531ms\tremaining: 7.77s\n",
      "64:\tlearn: 1.4508225\ttotal: 534ms\tremaining: 7.69s\n",
      "65:\tlearn: 1.4501023\ttotal: 537ms\tremaining: 7.59s\n",
      "66:\tlearn: 1.4492020\ttotal: 540ms\tremaining: 7.52s\n",
      "67:\tlearn: 1.4482925\ttotal: 543ms\tremaining: 7.44s\n",
      "68:\tlearn: 1.4478277\ttotal: 545ms\tremaining: 7.36s\n",
      "69:\tlearn: 1.4471273\ttotal: 548ms\tremaining: 7.29s\n",
      "70:\tlearn: 1.4465048\ttotal: 552ms\tremaining: 7.22s\n",
      "71:\tlearn: 1.4459040\ttotal: 555ms\tremaining: 7.15s\n",
      "72:\tlearn: 1.4458501\ttotal: 557ms\tremaining: 7.07s\n",
      "73:\tlearn: 1.4450945\ttotal: 560ms\tremaining: 7s\n",
      "74:\tlearn: 1.4446114\ttotal: 563ms\tremaining: 6.94s\n",
      "75:\tlearn: 1.4442001\ttotal: 566ms\tremaining: 6.88s\n",
      "76:\tlearn: 1.4436021\ttotal: 569ms\tremaining: 6.82s\n",
      "77:\tlearn: 1.4434145\ttotal: 571ms\tremaining: 6.75s\n",
      "78:\tlearn: 1.4431069\ttotal: 574ms\tremaining: 6.69s\n",
      "79:\tlearn: 1.4429041\ttotal: 576ms\tremaining: 6.63s\n",
      "80:\tlearn: 1.4425662\ttotal: 578ms\tremaining: 6.56s\n",
      "81:\tlearn: 1.4422263\ttotal: 582ms\tremaining: 6.51s\n",
      "82:\tlearn: 1.4419814\ttotal: 584ms\tremaining: 6.45s\n",
      "83:\tlearn: 1.4418827\ttotal: 586ms\tremaining: 6.39s\n",
      "84:\tlearn: 1.4418687\ttotal: 587ms\tremaining: 6.32s\n",
      "85:\tlearn: 1.4415631\ttotal: 590ms\tremaining: 6.27s\n",
      "86:\tlearn: 1.4413102\ttotal: 593ms\tremaining: 6.22s\n",
      "87:\tlearn: 1.4410589\ttotal: 596ms\tremaining: 6.17s\n",
      "88:\tlearn: 1.4407860\ttotal: 599ms\tremaining: 6.13s\n",
      "89:\tlearn: 1.4406206\ttotal: 602ms\tremaining: 6.09s\n",
      "90:\tlearn: 1.4403919\ttotal: 605ms\tremaining: 6.04s\n",
      "91:\tlearn: 1.4401894\ttotal: 608ms\tremaining: 6s\n",
      "92:\tlearn: 1.4400322\ttotal: 610ms\tremaining: 5.95s\n",
      "93:\tlearn: 1.4398755\ttotal: 614ms\tremaining: 5.92s\n",
      "94:\tlearn: 1.4397500\ttotal: 616ms\tremaining: 5.86s\n",
      "95:\tlearn: 1.4396082\ttotal: 618ms\tremaining: 5.82s\n",
      "96:\tlearn: 1.4394916\ttotal: 620ms\tremaining: 5.77s\n",
      "97:\tlearn: 1.4393455\ttotal: 622ms\tremaining: 5.73s\n",
      "98:\tlearn: 1.4392273\ttotal: 625ms\tremaining: 5.68s\n",
      "99:\tlearn: 1.4391281\ttotal: 627ms\tremaining: 5.65s\n",
      "100:\tlearn: 1.4388374\ttotal: 630ms\tremaining: 5.61s\n",
      "101:\tlearn: 1.4387894\ttotal: 632ms\tremaining: 5.57s\n",
      "102:\tlearn: 1.4386461\ttotal: 635ms\tremaining: 5.53s\n",
      "103:\tlearn: 1.4385477\ttotal: 638ms\tremaining: 5.49s\n",
      "104:\tlearn: 1.4384505\ttotal: 641ms\tremaining: 5.46s\n",
      "105:\tlearn: 1.4383770\ttotal: 645ms\tremaining: 5.44s\n",
      "106:\tlearn: 1.4382499\ttotal: 648ms\tremaining: 5.41s\n",
      "107:\tlearn: 1.4382008\ttotal: 650ms\tremaining: 5.37s\n",
      "108:\tlearn: 1.4380930\ttotal: 654ms\tremaining: 5.34s\n",
      "109:\tlearn: 1.4379914\ttotal: 657ms\tremaining: 5.32s\n",
      "110:\tlearn: 1.4379234\ttotal: 659ms\tremaining: 5.28s\n",
      "111:\tlearn: 1.4378475\ttotal: 663ms\tremaining: 5.25s\n",
      "112:\tlearn: 1.4378041\ttotal: 666ms\tremaining: 5.22s\n",
      "113:\tlearn: 1.4377610\ttotal: 671ms\tremaining: 5.21s\n",
      "114:\tlearn: 1.4377252\ttotal: 673ms\tremaining: 5.18s\n",
      "115:\tlearn: 1.4376316\ttotal: 677ms\tremaining: 5.16s\n",
      "116:\tlearn: 1.4375510\ttotal: 680ms\tremaining: 5.13s\n",
      "117:\tlearn: 1.4374490\ttotal: 683ms\tremaining: 5.11s\n",
      "118:\tlearn: 1.4373780\ttotal: 687ms\tremaining: 5.08s\n",
      "119:\tlearn: 1.4373436\ttotal: 690ms\tremaining: 5.06s\n",
      "120:\tlearn: 1.4372108\ttotal: 693ms\tremaining: 5.03s\n",
      "121:\tlearn: 1.4371482\ttotal: 696ms\tremaining: 5.01s\n",
      "122:\tlearn: 1.4370810\ttotal: 699ms\tremaining: 4.99s\n",
      "123:\tlearn: 1.4370362\ttotal: 702ms\tremaining: 4.96s\n",
      "124:\tlearn: 1.4369596\ttotal: 706ms\tremaining: 4.94s\n",
      "125:\tlearn: 1.4368953\ttotal: 709ms\tremaining: 4.92s\n",
      "126:\tlearn: 1.4368206\ttotal: 713ms\tremaining: 4.9s\n",
      "127:\tlearn: 1.4368206\ttotal: 715ms\tremaining: 4.87s\n",
      "128:\tlearn: 1.4368063\ttotal: 717ms\tremaining: 4.84s\n",
      "129:\tlearn: 1.4367473\ttotal: 720ms\tremaining: 4.82s\n",
      "130:\tlearn: 1.4367147\ttotal: 723ms\tremaining: 4.8s\n",
      "131:\tlearn: 1.4366860\ttotal: 727ms\tremaining: 4.78s\n",
      "132:\tlearn: 1.4365953\ttotal: 731ms\tremaining: 4.77s\n",
      "133:\tlearn: 1.4365877\ttotal: 733ms\tremaining: 4.74s\n",
      "134:\tlearn: 1.4365419\ttotal: 737ms\tremaining: 4.72s\n",
      "135:\tlearn: 1.4365254\ttotal: 739ms\tremaining: 4.7s\n",
      "136:\tlearn: 1.4364521\ttotal: 744ms\tremaining: 4.69s\n",
      "137:\tlearn: 1.4364258\ttotal: 747ms\tremaining: 4.66s\n",
      "138:\tlearn: 1.4363852\ttotal: 749ms\tremaining: 4.64s\n",
      "139:\tlearn: 1.4363616\ttotal: 751ms\tremaining: 4.62s\n",
      "140:\tlearn: 1.4363583\ttotal: 753ms\tremaining: 4.59s\n",
      "141:\tlearn: 1.4363371\ttotal: 756ms\tremaining: 4.57s\n",
      "142:\tlearn: 1.4362944\ttotal: 759ms\tremaining: 4.55s\n",
      "143:\tlearn: 1.4362507\ttotal: 763ms\tremaining: 4.53s\n",
      "144:\tlearn: 1.4361163\ttotal: 766ms\tremaining: 4.52s\n",
      "145:\tlearn: 1.4360861\ttotal: 769ms\tremaining: 4.5s\n",
      "146:\tlearn: 1.4360456\ttotal: 772ms\tremaining: 4.48s\n",
      "147:\tlearn: 1.4360255\ttotal: 774ms\tremaining: 4.46s\n",
      "148:\tlearn: 1.4359695\ttotal: 777ms\tremaining: 4.43s\n",
      "149:\tlearn: 1.4359510\ttotal: 780ms\tremaining: 4.42s\n",
      "150:\tlearn: 1.4358952\ttotal: 782ms\tremaining: 4.4s\n",
      "151:\tlearn: 1.4358159\ttotal: 785ms\tremaining: 4.38s\n",
      "152:\tlearn: 1.4357629\ttotal: 788ms\tremaining: 4.36s\n",
      "153:\tlearn: 1.4356993\ttotal: 792ms\tremaining: 4.35s\n",
      "154:\tlearn: 1.4356364\ttotal: 795ms\tremaining: 4.33s\n",
      "155:\tlearn: 1.4356265\ttotal: 797ms\tremaining: 4.31s\n",
      "156:\tlearn: 1.4355627\ttotal: 800ms\tremaining: 4.29s\n",
      "157:\tlearn: 1.4355091\ttotal: 804ms\tremaining: 4.28s\n",
      "158:\tlearn: 1.4354403\ttotal: 807ms\tremaining: 4.27s\n",
      "159:\tlearn: 1.4354082\ttotal: 811ms\tremaining: 4.26s\n",
      "160:\tlearn: 1.4353716\ttotal: 813ms\tremaining: 4.24s\n",
      "161:\tlearn: 1.4353137\ttotal: 817ms\tremaining: 4.23s\n",
      "162:\tlearn: 1.4352075\ttotal: 822ms\tremaining: 4.22s\n",
      "163:\tlearn: 1.4351970\ttotal: 824ms\tremaining: 4.2s\n",
      "164:\tlearn: 1.4351124\ttotal: 827ms\tremaining: 4.19s\n",
      "165:\tlearn: 1.4350272\ttotal: 831ms\tremaining: 4.17s\n",
      "166:\tlearn: 1.4349886\ttotal: 835ms\tremaining: 4.16s\n",
      "167:\tlearn: 1.4349790\ttotal: 838ms\tremaining: 4.15s\n",
      "168:\tlearn: 1.4349370\ttotal: 843ms\tremaining: 4.14s\n",
      "169:\tlearn: 1.4349219\ttotal: 845ms\tremaining: 4.13s\n",
      "170:\tlearn: 1.4348892\ttotal: 850ms\tremaining: 4.12s\n",
      "171:\tlearn: 1.4347827\ttotal: 853ms\tremaining: 4.11s\n",
      "172:\tlearn: 1.4347268\ttotal: 857ms\tremaining: 4.09s\n",
      "173:\tlearn: 1.4346669\ttotal: 860ms\tremaining: 4.08s\n",
      "174:\tlearn: 1.4346125\ttotal: 862ms\tremaining: 4.07s\n",
      "175:\tlearn: 1.4345540\ttotal: 866ms\tremaining: 4.06s\n",
      "176:\tlearn: 1.4344494\ttotal: 871ms\tremaining: 4.05s\n",
      "177:\tlearn: 1.4344060\ttotal: 874ms\tremaining: 4.04s\n",
      "178:\tlearn: 1.4343632\ttotal: 877ms\tremaining: 4.02s\n",
      "179:\tlearn: 1.4343286\ttotal: 880ms\tremaining: 4.01s\n",
      "180:\tlearn: 1.4342124\ttotal: 883ms\tremaining: 4s\n",
      "181:\tlearn: 1.4340926\ttotal: 886ms\tremaining: 3.98s\n",
      "182:\tlearn: 1.4340604\ttotal: 889ms\tremaining: 3.97s\n",
      "183:\tlearn: 1.4339875\ttotal: 893ms\tremaining: 3.96s\n",
      "184:\tlearn: 1.4338774\ttotal: 896ms\tremaining: 3.95s\n",
      "185:\tlearn: 1.4338085\ttotal: 899ms\tremaining: 3.93s\n",
      "186:\tlearn: 1.4337942\ttotal: 901ms\tremaining: 3.92s\n",
      "187:\tlearn: 1.4337499\ttotal: 904ms\tremaining: 3.91s\n",
      "188:\tlearn: 1.4336452\ttotal: 908ms\tremaining: 3.89s\n",
      "189:\tlearn: 1.4335518\ttotal: 911ms\tremaining: 3.88s\n",
      "190:\tlearn: 1.4334572\ttotal: 914ms\tremaining: 3.87s\n",
      "191:\tlearn: 1.4333587\ttotal: 917ms\tremaining: 3.86s\n",
      "192:\tlearn: 1.4332364\ttotal: 920ms\tremaining: 3.85s\n",
      "193:\tlearn: 1.4331626\ttotal: 924ms\tremaining: 3.84s\n",
      "194:\tlearn: 1.4330811\ttotal: 927ms\tremaining: 3.83s\n",
      "195:\tlearn: 1.4329888\ttotal: 930ms\tremaining: 3.81s\n",
      "196:\tlearn: 1.4329238\ttotal: 933ms\tremaining: 3.8s\n",
      "197:\tlearn: 1.4327754\ttotal: 936ms\tremaining: 3.79s\n",
      "198:\tlearn: 1.4326950\ttotal: 939ms\tremaining: 3.78s\n",
      "199:\tlearn: 1.4326202\ttotal: 943ms\tremaining: 3.77s\n",
      "200:\tlearn: 1.4325761\ttotal: 946ms\tremaining: 3.76s\n",
      "201:\tlearn: 1.4323632\ttotal: 949ms\tremaining: 3.75s\n",
      "202:\tlearn: 1.4322385\ttotal: 952ms\tremaining: 3.74s\n",
      "203:\tlearn: 1.4321271\ttotal: 956ms\tremaining: 3.73s\n",
      "204:\tlearn: 1.4320447\ttotal: 959ms\tremaining: 3.72s\n",
      "205:\tlearn: 1.4319336\ttotal: 962ms\tremaining: 3.71s\n",
      "206:\tlearn: 1.4318804\ttotal: 965ms\tremaining: 3.7s\n",
      "207:\tlearn: 1.4318309\ttotal: 969ms\tremaining: 3.69s\n"
     ]
    },
    {
     "name": "stdout",
     "output_type": "stream",
     "text": [
      "208:\tlearn: 1.4317099\ttotal: 972ms\tremaining: 3.68s\n",
      "209:\tlearn: 1.4316094\ttotal: 976ms\tremaining: 3.67s\n",
      "210:\tlearn: 1.4314922\ttotal: 979ms\tremaining: 3.66s\n",
      "211:\tlearn: 1.4313607\ttotal: 982ms\tremaining: 3.65s\n",
      "212:\tlearn: 1.4313063\ttotal: 986ms\tremaining: 3.64s\n",
      "213:\tlearn: 1.4312601\ttotal: 989ms\tremaining: 3.63s\n",
      "214:\tlearn: 1.4311924\ttotal: 992ms\tremaining: 3.62s\n",
      "215:\tlearn: 1.4311405\ttotal: 996ms\tremaining: 3.61s\n",
      "216:\tlearn: 1.4310848\ttotal: 1000ms\tremaining: 3.61s\n",
      "217:\tlearn: 1.4309725\ttotal: 1s\tremaining: 3.6s\n",
      "218:\tlearn: 1.4308979\ttotal: 1.01s\tremaining: 3.6s\n",
      "219:\tlearn: 1.4308522\ttotal: 1.01s\tremaining: 3.59s\n",
      "220:\tlearn: 1.4307766\ttotal: 1.01s\tremaining: 3.58s\n",
      "221:\tlearn: 1.4307064\ttotal: 1.02s\tremaining: 3.57s\n",
      "222:\tlearn: 1.4306573\ttotal: 1.02s\tremaining: 3.56s\n",
      "223:\tlearn: 1.4305702\ttotal: 1.02s\tremaining: 3.55s\n",
      "224:\tlearn: 1.4304043\ttotal: 1.03s\tremaining: 3.54s\n",
      "225:\tlearn: 1.4303839\ttotal: 1.03s\tremaining: 3.53s\n",
      "226:\tlearn: 1.4303465\ttotal: 1.03s\tremaining: 3.52s\n",
      "227:\tlearn: 1.4303059\ttotal: 1.04s\tremaining: 3.51s\n",
      "228:\tlearn: 1.4302749\ttotal: 1.04s\tremaining: 3.5s\n",
      "229:\tlearn: 1.4302211\ttotal: 1.04s\tremaining: 3.5s\n",
      "230:\tlearn: 1.4300681\ttotal: 1.05s\tremaining: 3.49s\n",
      "231:\tlearn: 1.4299206\ttotal: 1.05s\tremaining: 3.48s\n",
      "232:\tlearn: 1.4297996\ttotal: 1.05s\tremaining: 3.47s\n",
      "233:\tlearn: 1.4296808\ttotal: 1.06s\tremaining: 3.46s\n",
      "234:\tlearn: 1.4296369\ttotal: 1.06s\tremaining: 3.45s\n",
      "235:\tlearn: 1.4295582\ttotal: 1.06s\tremaining: 3.44s\n",
      "236:\tlearn: 1.4294814\ttotal: 1.07s\tremaining: 3.44s\n",
      "237:\tlearn: 1.4294206\ttotal: 1.07s\tremaining: 3.43s\n",
      "238:\tlearn: 1.4293525\ttotal: 1.07s\tremaining: 3.42s\n",
      "239:\tlearn: 1.4292854\ttotal: 1.08s\tremaining: 3.41s\n",
      "240:\tlearn: 1.4291894\ttotal: 1.08s\tremaining: 3.4s\n",
      "241:\tlearn: 1.4290885\ttotal: 1.08s\tremaining: 3.4s\n",
      "242:\tlearn: 1.4290471\ttotal: 1.09s\tremaining: 3.39s\n",
      "243:\tlearn: 1.4290168\ttotal: 1.09s\tremaining: 3.38s\n",
      "244:\tlearn: 1.4289941\ttotal: 1.09s\tremaining: 3.37s\n",
      "245:\tlearn: 1.4289532\ttotal: 1.1s\tremaining: 3.36s\n",
      "246:\tlearn: 1.4288257\ttotal: 1.1s\tremaining: 3.36s\n",
      "247:\tlearn: 1.4287725\ttotal: 1.1s\tremaining: 3.35s\n",
      "248:\tlearn: 1.4287136\ttotal: 1.11s\tremaining: 3.34s\n",
      "249:\tlearn: 1.4286763\ttotal: 1.11s\tremaining: 3.33s\n",
      "250:\tlearn: 1.4286399\ttotal: 1.11s\tremaining: 3.33s\n",
      "251:\tlearn: 1.4285597\ttotal: 1.12s\tremaining: 3.32s\n",
      "252:\tlearn: 1.4284927\ttotal: 1.12s\tremaining: 3.31s\n",
      "253:\tlearn: 1.4284356\ttotal: 1.12s\tremaining: 3.3s\n",
      "254:\tlearn: 1.4284219\ttotal: 1.13s\tremaining: 3.29s\n",
      "255:\tlearn: 1.4283297\ttotal: 1.13s\tremaining: 3.29s\n",
      "256:\tlearn: 1.4282777\ttotal: 1.14s\tremaining: 3.28s\n",
      "257:\tlearn: 1.4281642\ttotal: 1.14s\tremaining: 3.27s\n",
      "258:\tlearn: 1.4281241\ttotal: 1.14s\tremaining: 3.27s\n",
      "259:\tlearn: 1.4280402\ttotal: 1.15s\tremaining: 3.27s\n",
      "260:\tlearn: 1.4279877\ttotal: 1.15s\tremaining: 3.27s\n",
      "261:\tlearn: 1.4279185\ttotal: 1.16s\tremaining: 3.27s\n",
      "262:\tlearn: 1.4278404\ttotal: 1.17s\tremaining: 3.27s\n",
      "263:\tlearn: 1.4278100\ttotal: 1.17s\tremaining: 3.27s\n",
      "264:\tlearn: 1.4276997\ttotal: 1.18s\tremaining: 3.27s\n",
      "265:\tlearn: 1.4276492\ttotal: 1.19s\tremaining: 3.27s\n",
      "266:\tlearn: 1.4275941\ttotal: 1.19s\tremaining: 3.27s\n",
      "267:\tlearn: 1.4275267\ttotal: 1.2s\tremaining: 3.26s\n",
      "268:\tlearn: 1.4275069\ttotal: 1.2s\tremaining: 3.26s\n",
      "269:\tlearn: 1.4274211\ttotal: 1.2s\tremaining: 3.25s\n",
      "270:\tlearn: 1.4273904\ttotal: 1.21s\tremaining: 3.24s\n",
      "271:\tlearn: 1.4273497\ttotal: 1.21s\tremaining: 3.23s\n",
      "272:\tlearn: 1.4272698\ttotal: 1.21s\tremaining: 3.23s\n",
      "273:\tlearn: 1.4272223\ttotal: 1.22s\tremaining: 3.22s\n",
      "274:\tlearn: 1.4271456\ttotal: 1.22s\tremaining: 3.21s\n",
      "275:\tlearn: 1.4270760\ttotal: 1.22s\tremaining: 3.21s\n",
      "276:\tlearn: 1.4269576\ttotal: 1.23s\tremaining: 3.2s\n",
      "277:\tlearn: 1.4269175\ttotal: 1.23s\tremaining: 3.19s\n",
      "278:\tlearn: 1.4268210\ttotal: 1.23s\tremaining: 3.19s\n",
      "279:\tlearn: 1.4267718\ttotal: 1.24s\tremaining: 3.18s\n",
      "280:\tlearn: 1.4267347\ttotal: 1.24s\tremaining: 3.17s\n",
      "281:\tlearn: 1.4266362\ttotal: 1.24s\tremaining: 3.17s\n",
      "282:\tlearn: 1.4266203\ttotal: 1.25s\tremaining: 3.16s\n",
      "283:\tlearn: 1.4265529\ttotal: 1.25s\tremaining: 3.15s\n",
      "284:\tlearn: 1.4265013\ttotal: 1.25s\tremaining: 3.15s\n",
      "285:\tlearn: 1.4264488\ttotal: 1.26s\tremaining: 3.14s\n",
      "286:\tlearn: 1.4264269\ttotal: 1.26s\tremaining: 3.13s\n",
      "287:\tlearn: 1.4264017\ttotal: 1.26s\tremaining: 3.12s\n",
      "288:\tlearn: 1.4263409\ttotal: 1.27s\tremaining: 3.12s\n",
      "289:\tlearn: 1.4262646\ttotal: 1.27s\tremaining: 3.11s\n",
      "290:\tlearn: 1.4262222\ttotal: 1.27s\tremaining: 3.1s\n",
      "291:\tlearn: 1.4261920\ttotal: 1.28s\tremaining: 3.1s\n",
      "292:\tlearn: 1.4261574\ttotal: 1.28s\tremaining: 3.1s\n",
      "293:\tlearn: 1.4261169\ttotal: 1.29s\tremaining: 3.09s\n",
      "294:\tlearn: 1.4260091\ttotal: 1.29s\tremaining: 3.08s\n",
      "295:\tlearn: 1.4259896\ttotal: 1.29s\tremaining: 3.08s\n",
      "296:\tlearn: 1.4259529\ttotal: 1.3s\tremaining: 3.07s\n",
      "297:\tlearn: 1.4259274\ttotal: 1.3s\tremaining: 3.06s\n",
      "298:\tlearn: 1.4259126\ttotal: 1.3s\tremaining: 3.05s\n",
      "299:\tlearn: 1.4258147\ttotal: 1.31s\tremaining: 3.05s\n",
      "300:\tlearn: 1.4257895\ttotal: 1.31s\tremaining: 3.04s\n",
      "301:\tlearn: 1.4257504\ttotal: 1.31s\tremaining: 3.04s\n",
      "302:\tlearn: 1.4257356\ttotal: 1.32s\tremaining: 3.03s\n",
      "303:\tlearn: 1.4256794\ttotal: 1.32s\tremaining: 3.02s\n",
      "304:\tlearn: 1.4255649\ttotal: 1.32s\tremaining: 3.01s\n",
      "305:\tlearn: 1.4255282\ttotal: 1.33s\tremaining: 3.01s\n",
      "306:\tlearn: 1.4254433\ttotal: 1.33s\tremaining: 3s\n",
      "307:\tlearn: 1.4254019\ttotal: 1.33s\tremaining: 3s\n",
      "308:\tlearn: 1.4253688\ttotal: 1.34s\tremaining: 2.99s\n",
      "309:\tlearn: 1.4253125\ttotal: 1.34s\tremaining: 2.98s\n",
      "310:\tlearn: 1.4252636\ttotal: 1.34s\tremaining: 2.98s\n",
      "311:\tlearn: 1.4252128\ttotal: 1.35s\tremaining: 2.97s\n",
      "312:\tlearn: 1.4251715\ttotal: 1.35s\tremaining: 2.96s\n",
      "313:\tlearn: 1.4251388\ttotal: 1.35s\tremaining: 2.96s\n",
      "314:\tlearn: 1.4250737\ttotal: 1.36s\tremaining: 2.95s\n",
      "315:\tlearn: 1.4250447\ttotal: 1.36s\tremaining: 2.95s\n",
      "316:\tlearn: 1.4249860\ttotal: 1.36s\tremaining: 2.94s\n",
      "317:\tlearn: 1.4248871\ttotal: 1.37s\tremaining: 2.93s\n",
      "318:\tlearn: 1.4248383\ttotal: 1.37s\tremaining: 2.93s\n",
      "319:\tlearn: 1.4248141\ttotal: 1.37s\tremaining: 2.92s\n",
      "320:\tlearn: 1.4248024\ttotal: 1.38s\tremaining: 2.91s\n",
      "321:\tlearn: 1.4247599\ttotal: 1.38s\tremaining: 2.91s\n",
      "322:\tlearn: 1.4247431\ttotal: 1.38s\tremaining: 2.9s\n",
      "323:\tlearn: 1.4246949\ttotal: 1.39s\tremaining: 2.89s\n",
      "324:\tlearn: 1.4246599\ttotal: 1.39s\tremaining: 2.89s\n",
      "325:\tlearn: 1.4246393\ttotal: 1.39s\tremaining: 2.88s\n",
      "326:\tlearn: 1.4246085\ttotal: 1.4s\tremaining: 2.87s\n",
      "327:\tlearn: 1.4246011\ttotal: 1.4s\tremaining: 2.87s\n",
      "328:\tlearn: 1.4245707\ttotal: 1.4s\tremaining: 2.86s\n",
      "329:\tlearn: 1.4245409\ttotal: 1.41s\tremaining: 2.85s\n",
      "330:\tlearn: 1.4244376\ttotal: 1.41s\tremaining: 2.85s\n",
      "331:\tlearn: 1.4243099\ttotal: 1.41s\tremaining: 2.84s\n",
      "332:\tlearn: 1.4243024\ttotal: 1.42s\tremaining: 2.84s\n",
      "333:\tlearn: 1.4242614\ttotal: 1.42s\tremaining: 2.83s\n",
      "334:\tlearn: 1.4241878\ttotal: 1.42s\tremaining: 2.82s\n",
      "335:\tlearn: 1.4241110\ttotal: 1.43s\tremaining: 2.82s\n",
      "336:\tlearn: 1.4240924\ttotal: 1.43s\tremaining: 2.81s\n",
      "337:\tlearn: 1.4240385\ttotal: 1.43s\tremaining: 2.81s\n",
      "338:\tlearn: 1.4239956\ttotal: 1.44s\tremaining: 2.8s\n",
      "339:\tlearn: 1.4239202\ttotal: 1.44s\tremaining: 2.79s\n",
      "340:\tlearn: 1.4238613\ttotal: 1.44s\tremaining: 2.79s\n",
      "341:\tlearn: 1.4237940\ttotal: 1.45s\tremaining: 2.78s\n",
      "342:\tlearn: 1.4237491\ttotal: 1.45s\tremaining: 2.77s\n",
      "343:\tlearn: 1.4237164\ttotal: 1.45s\tremaining: 2.77s\n",
      "344:\tlearn: 1.4236536\ttotal: 1.46s\tremaining: 2.76s\n",
      "345:\tlearn: 1.4236349\ttotal: 1.46s\tremaining: 2.76s\n",
      "346:\tlearn: 1.4236103\ttotal: 1.46s\tremaining: 2.75s\n",
      "347:\tlearn: 1.4235943\ttotal: 1.47s\tremaining: 2.75s\n",
      "348:\tlearn: 1.4235385\ttotal: 1.47s\tremaining: 2.74s\n",
      "349:\tlearn: 1.4234376\ttotal: 1.47s\tremaining: 2.73s\n",
      "350:\tlearn: 1.4234092\ttotal: 1.48s\tremaining: 2.73s\n",
      "351:\tlearn: 1.4233697\ttotal: 1.48s\tremaining: 2.72s\n",
      "352:\tlearn: 1.4232938\ttotal: 1.48s\tremaining: 2.72s\n",
      "353:\tlearn: 1.4232658\ttotal: 1.49s\tremaining: 2.71s\n",
      "354:\tlearn: 1.4232492\ttotal: 1.49s\tremaining: 2.71s\n",
      "355:\tlearn: 1.4232254\ttotal: 1.49s\tremaining: 2.7s\n",
      "356:\tlearn: 1.4232037\ttotal: 1.5s\tremaining: 2.69s\n",
      "357:\tlearn: 1.4231785\ttotal: 1.5s\tremaining: 2.69s\n",
      "358:\tlearn: 1.4230741\ttotal: 1.5s\tremaining: 2.69s\n",
      "359:\tlearn: 1.4229899\ttotal: 1.51s\tremaining: 2.68s\n",
      "360:\tlearn: 1.4229653\ttotal: 1.51s\tremaining: 2.67s\n",
      "361:\tlearn: 1.4229272\ttotal: 1.51s\tremaining: 2.67s\n",
      "362:\tlearn: 1.4228992\ttotal: 1.52s\tremaining: 2.66s\n",
      "363:\tlearn: 1.4227856\ttotal: 1.52s\tremaining: 2.66s\n",
      "364:\tlearn: 1.4227458\ttotal: 1.52s\tremaining: 2.65s\n",
      "365:\tlearn: 1.4226795\ttotal: 1.53s\tremaining: 2.65s\n",
      "366:\tlearn: 1.4226417\ttotal: 1.53s\tremaining: 2.64s\n",
      "367:\tlearn: 1.4226099\ttotal: 1.54s\tremaining: 2.64s\n",
      "368:\tlearn: 1.4225834\ttotal: 1.54s\tremaining: 2.63s\n",
      "369:\tlearn: 1.4225526\ttotal: 1.55s\tremaining: 2.63s\n",
      "370:\tlearn: 1.4224849\ttotal: 1.55s\tremaining: 2.63s\n",
      "371:\tlearn: 1.4224574\ttotal: 1.56s\tremaining: 2.63s\n",
      "372:\tlearn: 1.4224204\ttotal: 1.56s\tremaining: 2.63s\n",
      "373:\tlearn: 1.4223982\ttotal: 1.57s\tremaining: 2.63s\n",
      "374:\tlearn: 1.4223118\ttotal: 1.58s\tremaining: 2.63s\n",
      "375:\tlearn: 1.4222344\ttotal: 1.58s\tremaining: 2.63s\n",
      "376:\tlearn: 1.4222152\ttotal: 1.59s\tremaining: 2.63s\n",
      "377:\tlearn: 1.4221762\ttotal: 1.59s\tremaining: 2.63s\n",
      "378:\tlearn: 1.4221186\ttotal: 1.6s\tremaining: 2.62s\n",
      "379:\tlearn: 1.4220886\ttotal: 1.61s\tremaining: 2.62s\n",
      "380:\tlearn: 1.4220367\ttotal: 1.61s\tremaining: 2.62s\n",
      "381:\tlearn: 1.4220079\ttotal: 1.62s\tremaining: 2.62s\n",
      "382:\tlearn: 1.4219988\ttotal: 1.62s\tremaining: 2.61s\n",
      "383:\tlearn: 1.4219224\ttotal: 1.63s\tremaining: 2.61s\n",
      "384:\tlearn: 1.4218986\ttotal: 1.63s\tremaining: 2.6s\n"
     ]
    },
    {
     "name": "stdout",
     "output_type": "stream",
     "text": [
      "385:\tlearn: 1.4218922\ttotal: 1.63s\tremaining: 2.6s\n",
      "386:\tlearn: 1.4218756\ttotal: 1.64s\tremaining: 2.59s\n",
      "387:\tlearn: 1.4217858\ttotal: 1.64s\tremaining: 2.59s\n",
      "388:\tlearn: 1.4217714\ttotal: 1.64s\tremaining: 2.58s\n",
      "389:\tlearn: 1.4217665\ttotal: 1.65s\tremaining: 2.58s\n",
      "390:\tlearn: 1.4216870\ttotal: 1.65s\tremaining: 2.57s\n",
      "391:\tlearn: 1.4216287\ttotal: 1.65s\tremaining: 2.57s\n",
      "392:\tlearn: 1.4216141\ttotal: 1.66s\tremaining: 2.56s\n",
      "393:\tlearn: 1.4215920\ttotal: 1.66s\tremaining: 2.56s\n",
      "394:\tlearn: 1.4215133\ttotal: 1.67s\tremaining: 2.55s\n",
      "395:\tlearn: 1.4214919\ttotal: 1.67s\tremaining: 2.55s\n",
      "396:\tlearn: 1.4214297\ttotal: 1.68s\tremaining: 2.55s\n",
      "397:\tlearn: 1.4214041\ttotal: 1.68s\tremaining: 2.54s\n",
      "398:\tlearn: 1.4213641\ttotal: 1.68s\tremaining: 2.54s\n",
      "399:\tlearn: 1.4213234\ttotal: 1.69s\tremaining: 2.53s\n",
      "400:\tlearn: 1.4213076\ttotal: 1.69s\tremaining: 2.53s\n",
      "401:\tlearn: 1.4212421\ttotal: 1.7s\tremaining: 2.52s\n",
      "402:\tlearn: 1.4212109\ttotal: 1.7s\tremaining: 2.52s\n",
      "403:\tlearn: 1.4211920\ttotal: 1.71s\tremaining: 2.52s\n",
      "404:\tlearn: 1.4211796\ttotal: 1.71s\tremaining: 2.51s\n",
      "405:\tlearn: 1.4211613\ttotal: 1.71s\tremaining: 2.51s\n",
      "406:\tlearn: 1.4211432\ttotal: 1.72s\tremaining: 2.5s\n",
      "407:\tlearn: 1.4210784\ttotal: 1.72s\tremaining: 2.5s\n",
      "408:\tlearn: 1.4210714\ttotal: 1.72s\tremaining: 2.49s\n",
      "409:\tlearn: 1.4210227\ttotal: 1.73s\tremaining: 2.48s\n",
      "410:\tlearn: 1.4210049\ttotal: 1.73s\tremaining: 2.48s\n",
      "411:\tlearn: 1.4209535\ttotal: 1.73s\tremaining: 2.47s\n",
      "412:\tlearn: 1.4209016\ttotal: 1.74s\tremaining: 2.47s\n",
      "413:\tlearn: 1.4208628\ttotal: 1.74s\tremaining: 2.46s\n",
      "414:\tlearn: 1.4208391\ttotal: 1.74s\tremaining: 2.46s\n",
      "415:\tlearn: 1.4208027\ttotal: 1.75s\tremaining: 2.45s\n",
      "416:\tlearn: 1.4207853\ttotal: 1.75s\tremaining: 2.45s\n",
      "417:\tlearn: 1.4207465\ttotal: 1.75s\tremaining: 2.44s\n",
      "418:\tlearn: 1.4207010\ttotal: 1.76s\tremaining: 2.44s\n",
      "419:\tlearn: 1.4206226\ttotal: 1.76s\tremaining: 2.43s\n",
      "420:\tlearn: 1.4205815\ttotal: 1.76s\tremaining: 2.42s\n",
      "421:\tlearn: 1.4205684\ttotal: 1.77s\tremaining: 2.42s\n",
      "422:\tlearn: 1.4205002\ttotal: 1.77s\tremaining: 2.41s\n",
      "423:\tlearn: 1.4204850\ttotal: 1.77s\tremaining: 2.41s\n",
      "424:\tlearn: 1.4204800\ttotal: 1.77s\tremaining: 2.4s\n",
      "425:\tlearn: 1.4204081\ttotal: 1.78s\tremaining: 2.4s\n",
      "426:\tlearn: 1.4203464\ttotal: 1.78s\tremaining: 2.39s\n",
      "427:\tlearn: 1.4203342\ttotal: 1.78s\tremaining: 2.39s\n",
      "428:\tlearn: 1.4203098\ttotal: 1.79s\tremaining: 2.38s\n",
      "429:\tlearn: 1.4202785\ttotal: 1.79s\tremaining: 2.38s\n",
      "430:\tlearn: 1.4202217\ttotal: 1.79s\tremaining: 2.37s\n",
      "431:\tlearn: 1.4202160\ttotal: 1.8s\tremaining: 2.36s\n",
      "432:\tlearn: 1.4201404\ttotal: 1.8s\tremaining: 2.36s\n",
      "433:\tlearn: 1.4201123\ttotal: 1.8s\tremaining: 2.35s\n",
      "434:\tlearn: 1.4200618\ttotal: 1.81s\tremaining: 2.35s\n",
      "435:\tlearn: 1.4200314\ttotal: 1.81s\tremaining: 2.35s\n",
      "436:\tlearn: 1.4199801\ttotal: 1.82s\tremaining: 2.34s\n",
      "437:\tlearn: 1.4199633\ttotal: 1.82s\tremaining: 2.33s\n",
      "438:\tlearn: 1.4198879\ttotal: 1.82s\tremaining: 2.33s\n",
      "439:\tlearn: 1.4198695\ttotal: 1.83s\tremaining: 2.33s\n",
      "440:\tlearn: 1.4198067\ttotal: 1.83s\tremaining: 2.32s\n",
      "441:\tlearn: 1.4197817\ttotal: 1.83s\tremaining: 2.31s\n",
      "442:\tlearn: 1.4197162\ttotal: 1.84s\tremaining: 2.31s\n",
      "443:\tlearn: 1.4196871\ttotal: 1.84s\tremaining: 2.31s\n",
      "444:\tlearn: 1.4196401\ttotal: 1.85s\tremaining: 2.3s\n",
      "445:\tlearn: 1.4196253\ttotal: 1.85s\tremaining: 2.3s\n",
      "446:\tlearn: 1.4195891\ttotal: 1.85s\tremaining: 2.29s\n",
      "447:\tlearn: 1.4195351\ttotal: 1.86s\tremaining: 2.29s\n",
      "448:\tlearn: 1.4194700\ttotal: 1.86s\tremaining: 2.28s\n",
      "449:\tlearn: 1.4194409\ttotal: 1.86s\tremaining: 2.28s\n",
      "450:\tlearn: 1.4194241\ttotal: 1.87s\tremaining: 2.27s\n",
      "451:\tlearn: 1.4193937\ttotal: 1.87s\tremaining: 2.27s\n",
      "452:\tlearn: 1.4193650\ttotal: 1.87s\tremaining: 2.26s\n",
      "453:\tlearn: 1.4193102\ttotal: 1.88s\tremaining: 2.26s\n",
      "454:\tlearn: 1.4192618\ttotal: 1.88s\tremaining: 2.25s\n",
      "455:\tlearn: 1.4192398\ttotal: 1.88s\tremaining: 2.25s\n",
      "456:\tlearn: 1.4191554\ttotal: 1.89s\tremaining: 2.24s\n",
      "457:\tlearn: 1.4191490\ttotal: 1.89s\tremaining: 2.24s\n",
      "458:\tlearn: 1.4191020\ttotal: 1.89s\tremaining: 2.23s\n",
      "459:\tlearn: 1.4190463\ttotal: 1.9s\tremaining: 2.23s\n",
      "460:\tlearn: 1.4190197\ttotal: 1.9s\tremaining: 2.22s\n",
      "461:\tlearn: 1.4190100\ttotal: 1.9s\tremaining: 2.22s\n",
      "462:\tlearn: 1.4189722\ttotal: 1.91s\tremaining: 2.21s\n",
      "463:\tlearn: 1.4189653\ttotal: 1.91s\tremaining: 2.21s\n",
      "464:\tlearn: 1.4189293\ttotal: 1.91s\tremaining: 2.2s\n",
      "465:\tlearn: 1.4188944\ttotal: 1.92s\tremaining: 2.2s\n",
      "466:\tlearn: 1.4188420\ttotal: 1.92s\tremaining: 2.19s\n",
      "467:\tlearn: 1.4188218\ttotal: 1.92s\tremaining: 2.19s\n",
      "468:\tlearn: 1.4188122\ttotal: 1.93s\tremaining: 2.18s\n",
      "469:\tlearn: 1.4187873\ttotal: 1.93s\tremaining: 2.18s\n",
      "470:\tlearn: 1.4187767\ttotal: 1.93s\tremaining: 2.17s\n",
      "471:\tlearn: 1.4187561\ttotal: 1.94s\tremaining: 2.17s\n",
      "472:\tlearn: 1.4187287\ttotal: 1.94s\tremaining: 2.16s\n",
      "473:\tlearn: 1.4186755\ttotal: 1.94s\tremaining: 2.16s\n",
      "474:\tlearn: 1.4186579\ttotal: 1.95s\tremaining: 2.15s\n",
      "475:\tlearn: 1.4186084\ttotal: 1.95s\tremaining: 2.15s\n",
      "476:\tlearn: 1.4185766\ttotal: 1.95s\tremaining: 2.14s\n",
      "477:\tlearn: 1.4185478\ttotal: 1.96s\tremaining: 2.14s\n",
      "478:\tlearn: 1.4185112\ttotal: 1.96s\tremaining: 2.13s\n",
      "479:\tlearn: 1.4184869\ttotal: 1.96s\tremaining: 2.13s\n",
      "480:\tlearn: 1.4184704\ttotal: 1.97s\tremaining: 2.12s\n",
      "481:\tlearn: 1.4184547\ttotal: 1.97s\tremaining: 2.12s\n",
      "482:\tlearn: 1.4184489\ttotal: 1.97s\tremaining: 2.11s\n",
      "483:\tlearn: 1.4184399\ttotal: 1.98s\tremaining: 2.11s\n",
      "484:\tlearn: 1.4184233\ttotal: 1.98s\tremaining: 2.1s\n",
      "485:\tlearn: 1.4183908\ttotal: 1.98s\tremaining: 2.1s\n",
      "486:\tlearn: 1.4183821\ttotal: 1.99s\tremaining: 2.09s\n",
      "487:\tlearn: 1.4183342\ttotal: 1.99s\tremaining: 2.09s\n",
      "488:\tlearn: 1.4182651\ttotal: 2s\tremaining: 2.08s\n",
      "489:\tlearn: 1.4182039\ttotal: 2s\tremaining: 2.08s\n",
      "490:\tlearn: 1.4181927\ttotal: 2s\tremaining: 2.08s\n",
      "491:\tlearn: 1.4181494\ttotal: 2.01s\tremaining: 2.07s\n",
      "492:\tlearn: 1.4181202\ttotal: 2.01s\tremaining: 2.07s\n",
      "493:\tlearn: 1.4180672\ttotal: 2.01s\tremaining: 2.06s\n",
      "494:\tlearn: 1.4180238\ttotal: 2.02s\tremaining: 2.06s\n",
      "495:\tlearn: 1.4179727\ttotal: 2.02s\tremaining: 2.05s\n",
      "496:\tlearn: 1.4179607\ttotal: 2.02s\tremaining: 2.05s\n",
      "497:\tlearn: 1.4179205\ttotal: 2.03s\tremaining: 2.04s\n",
      "498:\tlearn: 1.4178993\ttotal: 2.03s\tremaining: 2.04s\n",
      "499:\tlearn: 1.4178709\ttotal: 2.03s\tremaining: 2.03s\n",
      "500:\tlearn: 1.4178554\ttotal: 2.04s\tremaining: 2.03s\n",
      "501:\tlearn: 1.4178441\ttotal: 2.04s\tremaining: 2.02s\n",
      "502:\tlearn: 1.4178115\ttotal: 2.04s\tremaining: 2.02s\n",
      "503:\tlearn: 1.4177364\ttotal: 2.05s\tremaining: 2.01s\n",
      "504:\tlearn: 1.4177291\ttotal: 2.05s\tremaining: 2.01s\n",
      "505:\tlearn: 1.4176951\ttotal: 2.05s\tremaining: 2s\n",
      "506:\tlearn: 1.4176828\ttotal: 2.06s\tremaining: 2s\n",
      "507:\tlearn: 1.4176729\ttotal: 2.06s\tremaining: 2s\n",
      "508:\tlearn: 1.4176655\ttotal: 2.06s\tremaining: 1.99s\n",
      "509:\tlearn: 1.4176583\ttotal: 2.07s\tremaining: 1.99s\n",
      "510:\tlearn: 1.4176130\ttotal: 2.07s\tremaining: 1.98s\n",
      "511:\tlearn: 1.4175911\ttotal: 2.08s\tremaining: 1.98s\n",
      "512:\tlearn: 1.4175817\ttotal: 2.08s\tremaining: 1.97s\n",
      "513:\tlearn: 1.4174953\ttotal: 2.08s\tremaining: 1.97s\n",
      "514:\tlearn: 1.4174701\ttotal: 2.08s\tremaining: 1.96s\n",
      "515:\tlearn: 1.4174353\ttotal: 2.09s\tremaining: 1.96s\n",
      "516:\tlearn: 1.4174312\ttotal: 2.09s\tremaining: 1.95s\n",
      "517:\tlearn: 1.4173856\ttotal: 2.09s\tremaining: 1.95s\n",
      "518:\tlearn: 1.4173779\ttotal: 2.1s\tremaining: 1.94s\n",
      "519:\tlearn: 1.4173635\ttotal: 2.1s\tremaining: 1.94s\n",
      "520:\tlearn: 1.4173341\ttotal: 2.1s\tremaining: 1.93s\n",
      "521:\tlearn: 1.4172826\ttotal: 2.11s\tremaining: 1.93s\n",
      "522:\tlearn: 1.4172571\ttotal: 2.11s\tremaining: 1.93s\n",
      "523:\tlearn: 1.4172438\ttotal: 2.11s\tremaining: 1.92s\n",
      "524:\tlearn: 1.4171905\ttotal: 2.12s\tremaining: 1.92s\n",
      "525:\tlearn: 1.4171419\ttotal: 2.12s\tremaining: 1.91s\n",
      "526:\tlearn: 1.4171154\ttotal: 2.12s\tremaining: 1.91s\n",
      "527:\tlearn: 1.4170484\ttotal: 2.13s\tremaining: 1.9s\n",
      "528:\tlearn: 1.4170375\ttotal: 2.13s\tremaining: 1.9s\n",
      "529:\tlearn: 1.4169914\ttotal: 2.13s\tremaining: 1.89s\n",
      "530:\tlearn: 1.4169518\ttotal: 2.14s\tremaining: 1.89s\n",
      "531:\tlearn: 1.4169473\ttotal: 2.14s\tremaining: 1.88s\n",
      "532:\tlearn: 1.4169222\ttotal: 2.14s\tremaining: 1.88s\n",
      "533:\tlearn: 1.4169171\ttotal: 2.15s\tremaining: 1.87s\n",
      "534:\tlearn: 1.4169088\ttotal: 2.15s\tremaining: 1.87s\n",
      "535:\tlearn: 1.4169007\ttotal: 2.15s\tremaining: 1.86s\n",
      "536:\tlearn: 1.4168962\ttotal: 2.16s\tremaining: 1.86s\n",
      "537:\tlearn: 1.4168625\ttotal: 2.16s\tremaining: 1.86s\n",
      "538:\tlearn: 1.4168406\ttotal: 2.17s\tremaining: 1.85s\n",
      "539:\tlearn: 1.4168298\ttotal: 2.17s\tremaining: 1.85s\n",
      "540:\tlearn: 1.4168076\ttotal: 2.17s\tremaining: 1.84s\n",
      "541:\tlearn: 1.4167946\ttotal: 2.17s\tremaining: 1.84s\n",
      "542:\tlearn: 1.4167659\ttotal: 2.18s\tremaining: 1.83s\n",
      "543:\tlearn: 1.4167628\ttotal: 2.18s\tremaining: 1.83s\n",
      "544:\tlearn: 1.4167170\ttotal: 2.19s\tremaining: 1.82s\n",
      "545:\tlearn: 1.4167051\ttotal: 2.19s\tremaining: 1.82s\n",
      "546:\tlearn: 1.4166621\ttotal: 2.19s\tremaining: 1.81s\n",
      "547:\tlearn: 1.4166568\ttotal: 2.19s\tremaining: 1.81s\n",
      "548:\tlearn: 1.4166319\ttotal: 2.2s\tremaining: 1.8s\n",
      "549:\tlearn: 1.4165448\ttotal: 2.2s\tremaining: 1.8s\n",
      "550:\tlearn: 1.4165355\ttotal: 2.2s\tremaining: 1.8s\n",
      "551:\tlearn: 1.4165243\ttotal: 2.21s\tremaining: 1.79s\n",
      "552:\tlearn: 1.4165080\ttotal: 2.21s\tremaining: 1.79s\n",
      "553:\tlearn: 1.4164938\ttotal: 2.21s\tremaining: 1.78s\n",
      "554:\tlearn: 1.4164702\ttotal: 2.22s\tremaining: 1.78s\n",
      "555:\tlearn: 1.4164440\ttotal: 2.22s\tremaining: 1.77s\n",
      "556:\tlearn: 1.4164035\ttotal: 2.22s\tremaining: 1.77s\n",
      "557:\tlearn: 1.4163450\ttotal: 2.23s\tremaining: 1.76s\n",
      "558:\tlearn: 1.4163201\ttotal: 2.23s\tremaining: 1.76s\n",
      "559:\tlearn: 1.4162898\ttotal: 2.23s\tremaining: 1.75s\n",
      "560:\tlearn: 1.4162854\ttotal: 2.24s\tremaining: 1.75s\n",
      "561:\tlearn: 1.4162331\ttotal: 2.24s\tremaining: 1.75s\n",
      "562:\tlearn: 1.4162244\ttotal: 2.24s\tremaining: 1.74s\n",
      "563:\tlearn: 1.4162208\ttotal: 2.25s\tremaining: 1.74s\n",
      "564:\tlearn: 1.4161973\ttotal: 2.25s\tremaining: 1.73s\n",
      "565:\tlearn: 1.4161688\ttotal: 2.25s\tremaining: 1.73s\n",
      "566:\tlearn: 1.4161318\ttotal: 2.26s\tremaining: 1.72s\n",
      "567:\tlearn: 1.4161121\ttotal: 2.26s\tremaining: 1.72s\n",
      "568:\tlearn: 1.4160346\ttotal: 2.26s\tremaining: 1.72s\n",
      "569:\tlearn: 1.4159945\ttotal: 2.27s\tremaining: 1.71s\n",
      "570:\tlearn: 1.4159517\ttotal: 2.27s\tremaining: 1.71s\n",
      "571:\tlearn: 1.4159001\ttotal: 2.27s\tremaining: 1.7s\n",
      "572:\tlearn: 1.4158814\ttotal: 2.28s\tremaining: 1.7s\n",
      "573:\tlearn: 1.4158657\ttotal: 2.28s\tremaining: 1.69s\n",
      "574:\tlearn: 1.4158127\ttotal: 2.29s\tremaining: 1.69s\n",
      "575:\tlearn: 1.4158057\ttotal: 2.29s\tremaining: 1.68s\n",
      "576:\tlearn: 1.4158022\ttotal: 2.29s\tremaining: 1.68s\n",
      "577:\tlearn: 1.4157740\ttotal: 2.29s\tremaining: 1.68s\n",
      "578:\tlearn: 1.4157487\ttotal: 2.3s\tremaining: 1.67s\n",
      "579:\tlearn: 1.4157034\ttotal: 2.3s\tremaining: 1.67s\n",
      "580:\tlearn: 1.4156822\ttotal: 2.3s\tremaining: 1.66s\n"
     ]
    },
    {
     "name": "stdout",
     "output_type": "stream",
     "text": [
      "581:\tlearn: 1.4156598\ttotal: 2.31s\tremaining: 1.66s\n",
      "582:\tlearn: 1.4156422\ttotal: 2.31s\tremaining: 1.65s\n",
      "583:\tlearn: 1.4156145\ttotal: 2.31s\tremaining: 1.65s\n",
      "584:\tlearn: 1.4155977\ttotal: 2.32s\tremaining: 1.64s\n",
      "585:\tlearn: 1.4155555\ttotal: 2.32s\tremaining: 1.64s\n",
      "586:\tlearn: 1.4155000\ttotal: 2.32s\tremaining: 1.64s\n",
      "587:\tlearn: 1.4154958\ttotal: 2.33s\tremaining: 1.63s\n",
      "588:\tlearn: 1.4154542\ttotal: 2.33s\tremaining: 1.63s\n",
      "589:\tlearn: 1.4154386\ttotal: 2.33s\tremaining: 1.62s\n",
      "590:\tlearn: 1.4154056\ttotal: 2.34s\tremaining: 1.62s\n",
      "591:\tlearn: 1.4153892\ttotal: 2.34s\tremaining: 1.61s\n",
      "592:\tlearn: 1.4153841\ttotal: 2.34s\tremaining: 1.61s\n",
      "593:\tlearn: 1.4153714\ttotal: 2.35s\tremaining: 1.6s\n",
      "594:\tlearn: 1.4153617\ttotal: 2.35s\tremaining: 1.6s\n",
      "595:\tlearn: 1.4153418\ttotal: 2.35s\tremaining: 1.6s\n",
      "596:\tlearn: 1.4153378\ttotal: 2.36s\tremaining: 1.59s\n",
      "597:\tlearn: 1.4153163\ttotal: 2.36s\tremaining: 1.59s\n",
      "598:\tlearn: 1.4152792\ttotal: 2.37s\tremaining: 1.58s\n",
      "599:\tlearn: 1.4152458\ttotal: 2.37s\tremaining: 1.58s\n",
      "600:\tlearn: 1.4152371\ttotal: 2.37s\tremaining: 1.57s\n",
      "601:\tlearn: 1.4152305\ttotal: 2.38s\tremaining: 1.57s\n",
      "602:\tlearn: 1.4152198\ttotal: 2.38s\tremaining: 1.57s\n",
      "603:\tlearn: 1.4151676\ttotal: 2.38s\tremaining: 1.56s\n",
      "604:\tlearn: 1.4151218\ttotal: 2.39s\tremaining: 1.56s\n",
      "605:\tlearn: 1.4151195\ttotal: 2.4s\tremaining: 1.56s\n",
      "606:\tlearn: 1.4151111\ttotal: 2.4s\tremaining: 1.55s\n",
      "607:\tlearn: 1.4150972\ttotal: 2.4s\tremaining: 1.55s\n",
      "608:\tlearn: 1.4150330\ttotal: 2.41s\tremaining: 1.55s\n",
      "609:\tlearn: 1.4150206\ttotal: 2.41s\tremaining: 1.54s\n",
      "610:\tlearn: 1.4150168\ttotal: 2.41s\tremaining: 1.54s\n",
      "611:\tlearn: 1.4149707\ttotal: 2.42s\tremaining: 1.53s\n",
      "612:\tlearn: 1.4149284\ttotal: 2.42s\tremaining: 1.53s\n",
      "613:\tlearn: 1.4149155\ttotal: 2.42s\tremaining: 1.52s\n",
      "614:\tlearn: 1.4149098\ttotal: 2.43s\tremaining: 1.52s\n",
      "615:\tlearn: 1.4148929\ttotal: 2.43s\tremaining: 1.52s\n",
      "616:\tlearn: 1.4148901\ttotal: 2.44s\tremaining: 1.51s\n",
      "617:\tlearn: 1.4148771\ttotal: 2.44s\tremaining: 1.51s\n",
      "618:\tlearn: 1.4148736\ttotal: 2.44s\tremaining: 1.5s\n",
      "619:\tlearn: 1.4148358\ttotal: 2.45s\tremaining: 1.5s\n",
      "620:\tlearn: 1.4148166\ttotal: 2.45s\tremaining: 1.5s\n",
      "621:\tlearn: 1.4148068\ttotal: 2.45s\tremaining: 1.49s\n",
      "622:\tlearn: 1.4147906\ttotal: 2.46s\tremaining: 1.49s\n",
      "623:\tlearn: 1.4147568\ttotal: 2.46s\tremaining: 1.48s\n",
      "624:\tlearn: 1.4147494\ttotal: 2.46s\tremaining: 1.48s\n",
      "625:\tlearn: 1.4147373\ttotal: 2.47s\tremaining: 1.47s\n",
      "626:\tlearn: 1.4147340\ttotal: 2.47s\tremaining: 1.47s\n",
      "627:\tlearn: 1.4146989\ttotal: 2.48s\tremaining: 1.47s\n",
      "628:\tlearn: 1.4146684\ttotal: 2.48s\tremaining: 1.46s\n",
      "629:\tlearn: 1.4146610\ttotal: 2.48s\tremaining: 1.46s\n",
      "630:\tlearn: 1.4146363\ttotal: 2.48s\tremaining: 1.45s\n",
      "631:\tlearn: 1.4146321\ttotal: 2.49s\tremaining: 1.45s\n",
      "632:\tlearn: 1.4146265\ttotal: 2.49s\tremaining: 1.45s\n",
      "633:\tlearn: 1.4146234\ttotal: 2.5s\tremaining: 1.44s\n",
      "634:\tlearn: 1.4146118\ttotal: 2.5s\tremaining: 1.44s\n",
      "635:\tlearn: 1.4145796\ttotal: 2.5s\tremaining: 1.43s\n",
      "636:\tlearn: 1.4145366\ttotal: 2.51s\tremaining: 1.43s\n",
      "637:\tlearn: 1.4145260\ttotal: 2.51s\tremaining: 1.42s\n",
      "638:\tlearn: 1.4145009\ttotal: 2.51s\tremaining: 1.42s\n",
      "639:\tlearn: 1.4144746\ttotal: 2.52s\tremaining: 1.42s\n",
      "640:\tlearn: 1.4144655\ttotal: 2.52s\tremaining: 1.41s\n",
      "641:\tlearn: 1.4144229\ttotal: 2.52s\tremaining: 1.41s\n",
      "642:\tlearn: 1.4144120\ttotal: 2.53s\tremaining: 1.4s\n",
      "643:\tlearn: 1.4144056\ttotal: 2.53s\tremaining: 1.4s\n",
      "644:\tlearn: 1.4143729\ttotal: 2.54s\tremaining: 1.4s\n",
      "645:\tlearn: 1.4143179\ttotal: 2.54s\tremaining: 1.39s\n",
      "646:\tlearn: 1.4143052\ttotal: 2.54s\tremaining: 1.39s\n",
      "647:\tlearn: 1.4142978\ttotal: 2.54s\tremaining: 1.38s\n",
      "648:\tlearn: 1.4142807\ttotal: 2.55s\tremaining: 1.38s\n",
      "649:\tlearn: 1.4142586\ttotal: 2.55s\tremaining: 1.37s\n",
      "650:\tlearn: 1.4142501\ttotal: 2.55s\tremaining: 1.37s\n",
      "651:\tlearn: 1.4142450\ttotal: 2.56s\tremaining: 1.36s\n",
      "652:\tlearn: 1.4142415\ttotal: 2.56s\tremaining: 1.36s\n",
      "653:\tlearn: 1.4142014\ttotal: 2.56s\tremaining: 1.36s\n",
      "654:\tlearn: 1.4141983\ttotal: 2.57s\tremaining: 1.35s\n",
      "655:\tlearn: 1.4141724\ttotal: 2.57s\tremaining: 1.35s\n",
      "656:\tlearn: 1.4141697\ttotal: 2.57s\tremaining: 1.34s\n",
      "657:\tlearn: 1.4141489\ttotal: 2.58s\tremaining: 1.34s\n",
      "658:\tlearn: 1.4140951\ttotal: 2.58s\tremaining: 1.33s\n",
      "659:\tlearn: 1.4140692\ttotal: 2.58s\tremaining: 1.33s\n",
      "660:\tlearn: 1.4140500\ttotal: 2.59s\tremaining: 1.33s\n",
      "661:\tlearn: 1.4140214\ttotal: 2.59s\tremaining: 1.32s\n",
      "662:\tlearn: 1.4139941\ttotal: 2.59s\tremaining: 1.32s\n",
      "663:\tlearn: 1.4139898\ttotal: 2.6s\tremaining: 1.31s\n",
      "664:\tlearn: 1.4139435\ttotal: 2.6s\tremaining: 1.31s\n",
      "665:\tlearn: 1.4139170\ttotal: 2.6s\tremaining: 1.3s\n",
      "666:\tlearn: 1.4139098\ttotal: 2.61s\tremaining: 1.3s\n",
      "667:\tlearn: 1.4138895\ttotal: 2.61s\tremaining: 1.3s\n",
      "668:\tlearn: 1.4138840\ttotal: 2.61s\tremaining: 1.29s\n",
      "669:\tlearn: 1.4138672\ttotal: 2.62s\tremaining: 1.29s\n",
      "670:\tlearn: 1.4138248\ttotal: 2.62s\tremaining: 1.28s\n",
      "671:\tlearn: 1.4138039\ttotal: 2.62s\tremaining: 1.28s\n",
      "672:\tlearn: 1.4137676\ttotal: 2.63s\tremaining: 1.27s\n",
      "673:\tlearn: 1.4137203\ttotal: 2.63s\tremaining: 1.27s\n",
      "674:\tlearn: 1.4137146\ttotal: 2.63s\tremaining: 1.27s\n",
      "675:\tlearn: 1.4136898\ttotal: 2.63s\tremaining: 1.26s\n",
      "676:\tlearn: 1.4136557\ttotal: 2.64s\tremaining: 1.26s\n",
      "677:\tlearn: 1.4136468\ttotal: 2.64s\tremaining: 1.25s\n",
      "678:\tlearn: 1.4136152\ttotal: 2.65s\tremaining: 1.25s\n",
      "679:\tlearn: 1.4135964\ttotal: 2.65s\tremaining: 1.25s\n",
      "680:\tlearn: 1.4135727\ttotal: 2.65s\tremaining: 1.24s\n",
      "681:\tlearn: 1.4135584\ttotal: 2.66s\tremaining: 1.24s\n",
      "682:\tlearn: 1.4135502\ttotal: 2.66s\tremaining: 1.23s\n",
      "683:\tlearn: 1.4135176\ttotal: 2.66s\tremaining: 1.23s\n",
      "684:\tlearn: 1.4134982\ttotal: 2.67s\tremaining: 1.23s\n",
      "685:\tlearn: 1.4134846\ttotal: 2.67s\tremaining: 1.22s\n",
      "686:\tlearn: 1.4134670\ttotal: 2.67s\tremaining: 1.22s\n",
      "687:\tlearn: 1.4134064\ttotal: 2.68s\tremaining: 1.21s\n",
      "688:\tlearn: 1.4133994\ttotal: 2.68s\tremaining: 1.21s\n",
      "689:\tlearn: 1.4133843\ttotal: 2.68s\tremaining: 1.21s\n",
      "690:\tlearn: 1.4133824\ttotal: 2.69s\tremaining: 1.2s\n",
      "691:\tlearn: 1.4133754\ttotal: 2.69s\tremaining: 1.2s\n",
      "692:\tlearn: 1.4133731\ttotal: 2.69s\tremaining: 1.19s\n",
      "693:\tlearn: 1.4133502\ttotal: 2.7s\tremaining: 1.19s\n",
      "694:\tlearn: 1.4133135\ttotal: 2.7s\tremaining: 1.19s\n",
      "695:\tlearn: 1.4133055\ttotal: 2.71s\tremaining: 1.18s\n",
      "696:\tlearn: 1.4132952\ttotal: 2.71s\tremaining: 1.18s\n",
      "697:\tlearn: 1.4132918\ttotal: 2.71s\tremaining: 1.17s\n",
      "698:\tlearn: 1.4132832\ttotal: 2.71s\tremaining: 1.17s\n",
      "699:\tlearn: 1.4132550\ttotal: 2.72s\tremaining: 1.17s\n",
      "700:\tlearn: 1.4132490\ttotal: 2.72s\tremaining: 1.16s\n",
      "701:\tlearn: 1.4132312\ttotal: 2.73s\tremaining: 1.16s\n",
      "702:\tlearn: 1.4132134\ttotal: 2.73s\tremaining: 1.15s\n",
      "703:\tlearn: 1.4132003\ttotal: 2.73s\tremaining: 1.15s\n",
      "704:\tlearn: 1.4131957\ttotal: 2.73s\tremaining: 1.14s\n",
      "705:\tlearn: 1.4131943\ttotal: 2.74s\tremaining: 1.14s\n",
      "706:\tlearn: 1.4131922\ttotal: 2.74s\tremaining: 1.14s\n",
      "707:\tlearn: 1.4131487\ttotal: 2.75s\tremaining: 1.13s\n",
      "708:\tlearn: 1.4131429\ttotal: 2.75s\tremaining: 1.13s\n",
      "709:\tlearn: 1.4131400\ttotal: 2.75s\tremaining: 1.12s\n",
      "710:\tlearn: 1.4131317\ttotal: 2.75s\tremaining: 1.12s\n",
      "711:\tlearn: 1.4131131\ttotal: 2.76s\tremaining: 1.11s\n",
      "712:\tlearn: 1.4131101\ttotal: 2.76s\tremaining: 1.11s\n",
      "713:\tlearn: 1.4130930\ttotal: 2.77s\tremaining: 1.11s\n",
      "714:\tlearn: 1.4130835\ttotal: 2.77s\tremaining: 1.1s\n",
      "715:\tlearn: 1.4130807\ttotal: 2.77s\tremaining: 1.1s\n",
      "716:\tlearn: 1.4130777\ttotal: 2.77s\tremaining: 1.09s\n",
      "717:\tlearn: 1.4130579\ttotal: 2.78s\tremaining: 1.09s\n",
      "718:\tlearn: 1.4130553\ttotal: 2.78s\tremaining: 1.09s\n",
      "719:\tlearn: 1.4130218\ttotal: 2.79s\tremaining: 1.08s\n",
      "720:\tlearn: 1.4130079\ttotal: 2.79s\tremaining: 1.08s\n",
      "721:\tlearn: 1.4129860\ttotal: 2.79s\tremaining: 1.07s\n",
      "722:\tlearn: 1.4129604\ttotal: 2.79s\tremaining: 1.07s\n",
      "723:\tlearn: 1.4129442\ttotal: 2.8s\tremaining: 1.07s\n",
      "724:\tlearn: 1.4129421\ttotal: 2.8s\tremaining: 1.06s\n",
      "725:\tlearn: 1.4129261\ttotal: 2.81s\tremaining: 1.06s\n",
      "726:\tlearn: 1.4128970\ttotal: 2.81s\tremaining: 1.05s\n",
      "727:\tlearn: 1.4128647\ttotal: 2.81s\tremaining: 1.05s\n",
      "728:\tlearn: 1.4128581\ttotal: 2.82s\tremaining: 1.05s\n",
      "729:\tlearn: 1.4128354\ttotal: 2.82s\tremaining: 1.04s\n",
      "730:\tlearn: 1.4128311\ttotal: 2.82s\tremaining: 1.04s\n",
      "731:\tlearn: 1.4128258\ttotal: 2.83s\tremaining: 1.03s\n",
      "732:\tlearn: 1.4128182\ttotal: 2.83s\tremaining: 1.03s\n",
      "733:\tlearn: 1.4127985\ttotal: 2.83s\tremaining: 1.03s\n",
      "734:\tlearn: 1.4127476\ttotal: 2.84s\tremaining: 1.02s\n",
      "735:\tlearn: 1.4127461\ttotal: 2.84s\tremaining: 1.02s\n",
      "736:\tlearn: 1.4127146\ttotal: 2.85s\tremaining: 1.01s\n",
      "737:\tlearn: 1.4127071\ttotal: 2.85s\tremaining: 1.01s\n",
      "738:\tlearn: 1.4126939\ttotal: 2.85s\tremaining: 1.01s\n",
      "739:\tlearn: 1.4126634\ttotal: 2.86s\tremaining: 1s\n",
      "740:\tlearn: 1.4126175\ttotal: 2.86s\tremaining: 1s\n",
      "741:\tlearn: 1.4126152\ttotal: 2.87s\tremaining: 997ms\n",
      "742:\tlearn: 1.4126104\ttotal: 2.87s\tremaining: 993ms\n",
      "743:\tlearn: 1.4125981\ttotal: 2.88s\tremaining: 989ms\n",
      "744:\tlearn: 1.4125897\ttotal: 2.88s\tremaining: 985ms\n",
      "745:\tlearn: 1.4125558\ttotal: 2.89s\tremaining: 983ms\n",
      "746:\tlearn: 1.4125366\ttotal: 2.89s\tremaining: 979ms\n",
      "747:\tlearn: 1.4125313\ttotal: 2.89s\tremaining: 975ms\n",
      "748:\tlearn: 1.4125298\ttotal: 2.9s\tremaining: 973ms\n",
      "749:\tlearn: 1.4125077\ttotal: 2.91s\tremaining: 969ms\n",
      "750:\tlearn: 1.4124914\ttotal: 2.91s\tremaining: 966ms\n",
      "751:\tlearn: 1.4124598\ttotal: 2.92s\tremaining: 963ms\n",
      "752:\tlearn: 1.4124326\ttotal: 2.92s\tremaining: 959ms\n",
      "753:\tlearn: 1.4124125\ttotal: 2.93s\tremaining: 957ms\n",
      "754:\tlearn: 1.4123887\ttotal: 2.94s\tremaining: 953ms\n",
      "755:\tlearn: 1.4123602\ttotal: 2.94s\tremaining: 950ms\n",
      "756:\tlearn: 1.4123241\ttotal: 2.95s\tremaining: 947ms\n",
      "757:\tlearn: 1.4123189\ttotal: 2.95s\tremaining: 943ms\n",
      "758:\tlearn: 1.4123145\ttotal: 2.96s\tremaining: 941ms\n",
      "759:\tlearn: 1.4122910\ttotal: 2.96s\tremaining: 937ms\n",
      "760:\tlearn: 1.4122765\ttotal: 2.97s\tremaining: 933ms\n",
      "761:\tlearn: 1.4122639\ttotal: 2.98s\tremaining: 931ms\n"
     ]
    },
    {
     "name": "stdout",
     "output_type": "stream",
     "text": [
      "762:\tlearn: 1.4122600\ttotal: 2.99s\tremaining: 929ms\n",
      "763:\tlearn: 1.4122322\ttotal: 2.99s\tremaining: 925ms\n",
      "764:\tlearn: 1.4121954\ttotal: 3s\tremaining: 921ms\n",
      "765:\tlearn: 1.4121928\ttotal: 3s\tremaining: 917ms\n",
      "766:\tlearn: 1.4121713\ttotal: 3.01s\tremaining: 914ms\n",
      "767:\tlearn: 1.4121447\ttotal: 3.01s\tremaining: 909ms\n",
      "768:\tlearn: 1.4121399\ttotal: 3.02s\tremaining: 906ms\n",
      "769:\tlearn: 1.4121101\ttotal: 3.02s\tremaining: 902ms\n",
      "770:\tlearn: 1.4121068\ttotal: 3.02s\tremaining: 899ms\n",
      "771:\tlearn: 1.4120883\ttotal: 3.03s\tremaining: 896ms\n",
      "772:\tlearn: 1.4120653\ttotal: 3.04s\tremaining: 893ms\n",
      "773:\tlearn: 1.4120438\ttotal: 3.05s\tremaining: 890ms\n",
      "774:\tlearn: 1.4120322\ttotal: 3.05s\tremaining: 886ms\n",
      "775:\tlearn: 1.4120181\ttotal: 3.06s\tremaining: 884ms\n",
      "776:\tlearn: 1.4120130\ttotal: 3.06s\tremaining: 880ms\n",
      "777:\tlearn: 1.4119941\ttotal: 3.07s\tremaining: 876ms\n",
      "778:\tlearn: 1.4119928\ttotal: 3.08s\tremaining: 873ms\n",
      "779:\tlearn: 1.4119826\ttotal: 3.08s\tremaining: 869ms\n",
      "780:\tlearn: 1.4119621\ttotal: 3.09s\tremaining: 865ms\n",
      "781:\tlearn: 1.4119082\ttotal: 3.09s\tremaining: 862ms\n",
      "782:\tlearn: 1.4118849\ttotal: 3.1s\tremaining: 858ms\n",
      "783:\tlearn: 1.4118624\ttotal: 3.1s\tremaining: 855ms\n",
      "784:\tlearn: 1.4118491\ttotal: 3.11s\tremaining: 851ms\n",
      "785:\tlearn: 1.4118104\ttotal: 3.12s\tremaining: 849ms\n",
      "786:\tlearn: 1.4117945\ttotal: 3.12s\tremaining: 845ms\n",
      "787:\tlearn: 1.4117839\ttotal: 3.13s\tremaining: 841ms\n",
      "788:\tlearn: 1.4117833\ttotal: 3.13s\tremaining: 837ms\n",
      "789:\tlearn: 1.4117816\ttotal: 3.14s\tremaining: 834ms\n",
      "790:\tlearn: 1.4117802\ttotal: 3.14s\tremaining: 830ms\n",
      "791:\tlearn: 1.4117706\ttotal: 3.15s\tremaining: 827ms\n",
      "792:\tlearn: 1.4117693\ttotal: 3.15s\tremaining: 823ms\n",
      "793:\tlearn: 1.4117555\ttotal: 3.15s\tremaining: 819ms\n",
      "794:\tlearn: 1.4117236\ttotal: 3.16s\tremaining: 815ms\n",
      "795:\tlearn: 1.4117056\ttotal: 3.17s\tremaining: 812ms\n",
      "796:\tlearn: 1.4117012\ttotal: 3.18s\tremaining: 809ms\n",
      "797:\tlearn: 1.4116994\ttotal: 3.18s\tremaining: 805ms\n",
      "798:\tlearn: 1.4116855\ttotal: 3.19s\tremaining: 803ms\n",
      "799:\tlearn: 1.4116725\ttotal: 3.19s\tremaining: 799ms\n",
      "800:\tlearn: 1.4116587\ttotal: 3.2s\tremaining: 795ms\n",
      "801:\tlearn: 1.4116437\ttotal: 3.2s\tremaining: 791ms\n",
      "802:\tlearn: 1.4116366\ttotal: 3.21s\tremaining: 787ms\n",
      "803:\tlearn: 1.4116183\ttotal: 3.21s\tremaining: 783ms\n",
      "804:\tlearn: 1.4116138\ttotal: 3.21s\tremaining: 779ms\n",
      "805:\tlearn: 1.4115812\ttotal: 3.22s\tremaining: 775ms\n",
      "806:\tlearn: 1.4115527\ttotal: 3.22s\tremaining: 770ms\n",
      "807:\tlearn: 1.4115395\ttotal: 3.22s\tremaining: 766ms\n",
      "808:\tlearn: 1.4115195\ttotal: 3.23s\tremaining: 762ms\n",
      "809:\tlearn: 1.4115176\ttotal: 3.23s\tremaining: 758ms\n",
      "810:\tlearn: 1.4115057\ttotal: 3.23s\tremaining: 754ms\n",
      "811:\tlearn: 1.4114656\ttotal: 3.24s\tremaining: 750ms\n",
      "812:\tlearn: 1.4114519\ttotal: 3.24s\tremaining: 745ms\n",
      "813:\tlearn: 1.4114465\ttotal: 3.24s\tremaining: 741ms\n",
      "814:\tlearn: 1.4114360\ttotal: 3.25s\tremaining: 737ms\n",
      "815:\tlearn: 1.4114142\ttotal: 3.25s\tremaining: 733ms\n",
      "816:\tlearn: 1.4113985\ttotal: 3.25s\tremaining: 729ms\n",
      "817:\tlearn: 1.4113927\ttotal: 3.26s\tremaining: 725ms\n",
      "818:\tlearn: 1.4113898\ttotal: 3.26s\tremaining: 721ms\n",
      "819:\tlearn: 1.4113701\ttotal: 3.26s\tremaining: 717ms\n",
      "820:\tlearn: 1.4113646\ttotal: 3.27s\tremaining: 712ms\n",
      "821:\tlearn: 1.4113414\ttotal: 3.27s\tremaining: 708ms\n",
      "822:\tlearn: 1.4113359\ttotal: 3.27s\tremaining: 704ms\n",
      "823:\tlearn: 1.4113331\ttotal: 3.28s\tremaining: 700ms\n",
      "824:\tlearn: 1.4113241\ttotal: 3.28s\tremaining: 696ms\n",
      "825:\tlearn: 1.4113196\ttotal: 3.28s\tremaining: 692ms\n",
      "826:\tlearn: 1.4113039\ttotal: 3.29s\tremaining: 688ms\n",
      "827:\tlearn: 1.4112987\ttotal: 3.29s\tremaining: 683ms\n",
      "828:\tlearn: 1.4112872\ttotal: 3.29s\tremaining: 679ms\n",
      "829:\tlearn: 1.4112714\ttotal: 3.3s\tremaining: 675ms\n",
      "830:\tlearn: 1.4112615\ttotal: 3.3s\tremaining: 671ms\n",
      "831:\tlearn: 1.4112383\ttotal: 3.3s\tremaining: 667ms\n",
      "832:\tlearn: 1.4112190\ttotal: 3.31s\tremaining: 663ms\n",
      "833:\tlearn: 1.4112130\ttotal: 3.31s\tremaining: 659ms\n",
      "834:\tlearn: 1.4112080\ttotal: 3.31s\tremaining: 655ms\n",
      "835:\tlearn: 1.4111958\ttotal: 3.32s\tremaining: 651ms\n",
      "836:\tlearn: 1.4111710\ttotal: 3.32s\tremaining: 647ms\n",
      "837:\tlearn: 1.4111544\ttotal: 3.32s\tremaining: 643ms\n",
      "838:\tlearn: 1.4111468\ttotal: 3.33s\tremaining: 639ms\n",
      "839:\tlearn: 1.4111427\ttotal: 3.33s\tremaining: 635ms\n",
      "840:\tlearn: 1.4111073\ttotal: 3.33s\tremaining: 631ms\n",
      "841:\tlearn: 1.4111027\ttotal: 3.34s\tremaining: 627ms\n",
      "842:\tlearn: 1.4110997\ttotal: 3.34s\tremaining: 622ms\n",
      "843:\tlearn: 1.4110959\ttotal: 3.35s\tremaining: 618ms\n",
      "844:\tlearn: 1.4110883\ttotal: 3.35s\tremaining: 614ms\n",
      "845:\tlearn: 1.4110820\ttotal: 3.35s\tremaining: 610ms\n",
      "846:\tlearn: 1.4110805\ttotal: 3.35s\tremaining: 606ms\n",
      "847:\tlearn: 1.4110729\ttotal: 3.36s\tremaining: 602ms\n",
      "848:\tlearn: 1.4110717\ttotal: 3.36s\tremaining: 598ms\n",
      "849:\tlearn: 1.4110566\ttotal: 3.36s\tremaining: 594ms\n",
      "850:\tlearn: 1.4110526\ttotal: 3.37s\tremaining: 590ms\n",
      "851:\tlearn: 1.4110377\ttotal: 3.37s\tremaining: 586ms\n",
      "852:\tlearn: 1.4110247\ttotal: 3.37s\tremaining: 582ms\n",
      "853:\tlearn: 1.4110158\ttotal: 3.38s\tremaining: 577ms\n",
      "854:\tlearn: 1.4109962\ttotal: 3.38s\tremaining: 573ms\n",
      "855:\tlearn: 1.4109959\ttotal: 3.38s\tremaining: 569ms\n",
      "856:\tlearn: 1.4109953\ttotal: 3.39s\tremaining: 565ms\n",
      "857:\tlearn: 1.4109927\ttotal: 3.39s\tremaining: 561ms\n",
      "858:\tlearn: 1.4109743\ttotal: 3.39s\tremaining: 557ms\n",
      "859:\tlearn: 1.4109559\ttotal: 3.4s\tremaining: 553ms\n",
      "860:\tlearn: 1.4109303\ttotal: 3.4s\tremaining: 549ms\n",
      "861:\tlearn: 1.4108989\ttotal: 3.4s\tremaining: 545ms\n",
      "862:\tlearn: 1.4108605\ttotal: 3.41s\tremaining: 541ms\n",
      "863:\tlearn: 1.4108509\ttotal: 3.41s\tremaining: 537ms\n",
      "864:\tlearn: 1.4108499\ttotal: 3.42s\tremaining: 533ms\n",
      "865:\tlearn: 1.4108468\ttotal: 3.42s\tremaining: 529ms\n",
      "866:\tlearn: 1.4108451\ttotal: 3.42s\tremaining: 525ms\n",
      "867:\tlearn: 1.4108346\ttotal: 3.43s\tremaining: 521ms\n",
      "868:\tlearn: 1.4108300\ttotal: 3.43s\tremaining: 517ms\n",
      "869:\tlearn: 1.4107827\ttotal: 3.43s\tremaining: 513ms\n",
      "870:\tlearn: 1.4107788\ttotal: 3.44s\tremaining: 509ms\n",
      "871:\tlearn: 1.4107545\ttotal: 3.44s\tremaining: 505ms\n",
      "872:\tlearn: 1.4107509\ttotal: 3.45s\tremaining: 501ms\n",
      "873:\tlearn: 1.4107395\ttotal: 3.45s\tremaining: 497ms\n",
      "874:\tlearn: 1.4107069\ttotal: 3.45s\tremaining: 493ms\n",
      "875:\tlearn: 1.4107043\ttotal: 3.46s\tremaining: 489ms\n",
      "876:\tlearn: 1.4106979\ttotal: 3.46s\tremaining: 485ms\n",
      "877:\tlearn: 1.4106905\ttotal: 3.46s\tremaining: 481ms\n",
      "878:\tlearn: 1.4106869\ttotal: 3.47s\tremaining: 477ms\n",
      "879:\tlearn: 1.4106681\ttotal: 3.47s\tremaining: 473ms\n",
      "880:\tlearn: 1.4106672\ttotal: 3.47s\tremaining: 469ms\n",
      "881:\tlearn: 1.4106488\ttotal: 3.48s\tremaining: 465ms\n",
      "882:\tlearn: 1.4106348\ttotal: 3.48s\tremaining: 461ms\n",
      "883:\tlearn: 1.4106284\ttotal: 3.48s\tremaining: 457ms\n",
      "884:\tlearn: 1.4106223\ttotal: 3.49s\tremaining: 453ms\n",
      "885:\tlearn: 1.4106041\ttotal: 3.49s\tremaining: 449ms\n",
      "886:\tlearn: 1.4105923\ttotal: 3.5s\tremaining: 445ms\n",
      "887:\tlearn: 1.4105873\ttotal: 3.5s\tremaining: 442ms\n",
      "888:\tlearn: 1.4105708\ttotal: 3.5s\tremaining: 438ms\n",
      "889:\tlearn: 1.4105593\ttotal: 3.51s\tremaining: 433ms\n",
      "890:\tlearn: 1.4105522\ttotal: 3.51s\tremaining: 429ms\n",
      "891:\tlearn: 1.4105372\ttotal: 3.51s\tremaining: 426ms\n",
      "892:\tlearn: 1.4105290\ttotal: 3.52s\tremaining: 422ms\n",
      "893:\tlearn: 1.4105173\ttotal: 3.52s\tremaining: 418ms\n",
      "894:\tlearn: 1.4105020\ttotal: 3.53s\tremaining: 414ms\n",
      "895:\tlearn: 1.4104890\ttotal: 3.53s\tremaining: 410ms\n",
      "896:\tlearn: 1.4104644\ttotal: 3.53s\tremaining: 406ms\n",
      "897:\tlearn: 1.4104521\ttotal: 3.54s\tremaining: 402ms\n",
      "898:\tlearn: 1.4104227\ttotal: 3.54s\tremaining: 398ms\n",
      "899:\tlearn: 1.4104097\ttotal: 3.54s\tremaining: 394ms\n",
      "900:\tlearn: 1.4104075\ttotal: 3.55s\tremaining: 390ms\n",
      "901:\tlearn: 1.4103878\ttotal: 3.55s\tremaining: 386ms\n",
      "902:\tlearn: 1.4103865\ttotal: 3.56s\tremaining: 382ms\n",
      "903:\tlearn: 1.4103511\ttotal: 3.56s\tremaining: 378ms\n",
      "904:\tlearn: 1.4103451\ttotal: 3.56s\tremaining: 374ms\n",
      "905:\tlearn: 1.4103417\ttotal: 3.57s\tremaining: 370ms\n",
      "906:\tlearn: 1.4103397\ttotal: 3.57s\tremaining: 366ms\n",
      "907:\tlearn: 1.4103305\ttotal: 3.57s\tremaining: 362ms\n",
      "908:\tlearn: 1.4103302\ttotal: 3.58s\tremaining: 358ms\n",
      "909:\tlearn: 1.4103140\ttotal: 3.58s\tremaining: 354ms\n",
      "910:\tlearn: 1.4103014\ttotal: 3.58s\tremaining: 350ms\n",
      "911:\tlearn: 1.4102992\ttotal: 3.59s\tremaining: 346ms\n",
      "912:\tlearn: 1.4102960\ttotal: 3.64s\tremaining: 347ms\n",
      "913:\tlearn: 1.4102849\ttotal: 3.64s\tremaining: 343ms\n",
      "914:\tlearn: 1.4102839\ttotal: 3.65s\tremaining: 339ms\n",
      "915:\tlearn: 1.4102823\ttotal: 3.65s\tremaining: 335ms\n",
      "916:\tlearn: 1.4102767\ttotal: 3.66s\tremaining: 331ms\n",
      "917:\tlearn: 1.4102656\ttotal: 3.66s\tremaining: 327ms\n",
      "918:\tlearn: 1.4102634\ttotal: 3.67s\tremaining: 323ms\n",
      "919:\tlearn: 1.4102374\ttotal: 3.67s\tremaining: 320ms\n",
      "920:\tlearn: 1.4102346\ttotal: 3.68s\tremaining: 316ms\n",
      "921:\tlearn: 1.4102254\ttotal: 3.69s\tremaining: 312ms\n",
      "922:\tlearn: 1.4102240\ttotal: 3.69s\tremaining: 308ms\n",
      "923:\tlearn: 1.4102032\ttotal: 3.69s\tremaining: 304ms\n",
      "924:\tlearn: 1.4101873\ttotal: 3.7s\tremaining: 300ms\n",
      "925:\tlearn: 1.4101695\ttotal: 3.71s\tremaining: 296ms\n",
      "926:\tlearn: 1.4101683\ttotal: 3.71s\tremaining: 292ms\n",
      "927:\tlearn: 1.4101559\ttotal: 3.71s\tremaining: 288ms\n",
      "928:\tlearn: 1.4101448\ttotal: 3.72s\tremaining: 284ms\n",
      "929:\tlearn: 1.4101426\ttotal: 3.73s\tremaining: 280ms\n",
      "930:\tlearn: 1.4101389\ttotal: 3.73s\tremaining: 276ms\n",
      "931:\tlearn: 1.4101372\ttotal: 3.73s\tremaining: 273ms\n",
      "932:\tlearn: 1.4101335\ttotal: 3.74s\tremaining: 269ms\n",
      "933:\tlearn: 1.4101113\ttotal: 3.74s\tremaining: 265ms\n",
      "934:\tlearn: 1.4101089\ttotal: 3.75s\tremaining: 261ms\n",
      "935:\tlearn: 1.4101071\ttotal: 3.75s\tremaining: 256ms\n",
      "936:\tlearn: 1.4100862\ttotal: 3.75s\tremaining: 252ms\n",
      "937:\tlearn: 1.4100769\ttotal: 3.76s\tremaining: 248ms\n",
      "938:\tlearn: 1.4100656\ttotal: 3.76s\tremaining: 244ms\n",
      "939:\tlearn: 1.4100558\ttotal: 3.76s\tremaining: 240ms\n",
      "940:\tlearn: 1.4100248\ttotal: 3.77s\tremaining: 236ms\n",
      "941:\tlearn: 1.4100190\ttotal: 3.77s\tremaining: 232ms\n",
      "942:\tlearn: 1.4100160\ttotal: 3.77s\tremaining: 228ms\n",
      "943:\tlearn: 1.4100121\ttotal: 3.78s\tremaining: 224ms\n",
      "944:\tlearn: 1.4100105\ttotal: 3.78s\tremaining: 220ms\n",
      "945:\tlearn: 1.4099944\ttotal: 3.78s\tremaining: 216ms\n",
      "946:\tlearn: 1.4099899\ttotal: 3.79s\tremaining: 212ms\n",
      "947:\tlearn: 1.4099802\ttotal: 3.79s\tremaining: 208ms\n",
      "948:\tlearn: 1.4099668\ttotal: 3.79s\tremaining: 204ms\n",
      "949:\tlearn: 1.4099513\ttotal: 3.79s\tremaining: 200ms\n",
      "950:\tlearn: 1.4099487\ttotal: 3.8s\tremaining: 196ms\n",
      "951:\tlearn: 1.4099473\ttotal: 3.8s\tremaining: 192ms\n",
      "952:\tlearn: 1.4099453\ttotal: 3.81s\tremaining: 188ms\n",
      "953:\tlearn: 1.4099341\ttotal: 3.81s\tremaining: 184ms\n",
      "954:\tlearn: 1.4099222\ttotal: 3.81s\tremaining: 180ms\n",
      "955:\tlearn: 1.4099118\ttotal: 3.81s\tremaining: 176ms\n"
     ]
    },
    {
     "name": "stdout",
     "output_type": "stream",
     "text": [
      "956:\tlearn: 1.4098963\ttotal: 3.82s\tremaining: 172ms\n",
      "957:\tlearn: 1.4098743\ttotal: 3.82s\tremaining: 168ms\n",
      "958:\tlearn: 1.4098725\ttotal: 3.83s\tremaining: 164ms\n",
      "959:\tlearn: 1.4098672\ttotal: 3.83s\tremaining: 160ms\n",
      "960:\tlearn: 1.4098606\ttotal: 3.83s\tremaining: 156ms\n",
      "961:\tlearn: 1.4098371\ttotal: 3.83s\tremaining: 152ms\n",
      "962:\tlearn: 1.4098284\ttotal: 3.84s\tremaining: 147ms\n",
      "963:\tlearn: 1.4098010\ttotal: 3.84s\tremaining: 144ms\n",
      "964:\tlearn: 1.4098002\ttotal: 3.85s\tremaining: 140ms\n",
      "965:\tlearn: 1.4097831\ttotal: 3.85s\tremaining: 136ms\n",
      "966:\tlearn: 1.4097646\ttotal: 3.85s\tremaining: 131ms\n",
      "967:\tlearn: 1.4097502\ttotal: 3.86s\tremaining: 127ms\n",
      "968:\tlearn: 1.4097478\ttotal: 3.86s\tremaining: 123ms\n",
      "969:\tlearn: 1.4097239\ttotal: 3.86s\tremaining: 119ms\n",
      "970:\tlearn: 1.4097083\ttotal: 3.87s\tremaining: 115ms\n",
      "971:\tlearn: 1.4096855\ttotal: 3.87s\tremaining: 111ms\n",
      "972:\tlearn: 1.4096754\ttotal: 3.87s\tremaining: 108ms\n",
      "973:\tlearn: 1.4096670\ttotal: 3.88s\tremaining: 104ms\n",
      "974:\tlearn: 1.4096441\ttotal: 3.88s\tremaining: 99.5ms\n",
      "975:\tlearn: 1.4096411\ttotal: 3.88s\tremaining: 95.5ms\n",
      "976:\tlearn: 1.4096346\ttotal: 3.89s\tremaining: 91.5ms\n",
      "977:\tlearn: 1.4096177\ttotal: 3.89s\tremaining: 87.5ms\n",
      "978:\tlearn: 1.4096129\ttotal: 3.9s\tremaining: 83.6ms\n",
      "979:\tlearn: 1.4095985\ttotal: 3.9s\tremaining: 79.6ms\n",
      "980:\tlearn: 1.4095963\ttotal: 3.9s\tremaining: 75.6ms\n",
      "981:\tlearn: 1.4095851\ttotal: 3.9s\tremaining: 71.6ms\n",
      "982:\tlearn: 1.4095782\ttotal: 3.91s\tremaining: 67.6ms\n",
      "983:\tlearn: 1.4095769\ttotal: 3.91s\tremaining: 63.6ms\n",
      "984:\tlearn: 1.4095510\ttotal: 3.91s\tremaining: 59.6ms\n",
      "985:\tlearn: 1.4095287\ttotal: 3.92s\tremaining: 55.6ms\n",
      "986:\tlearn: 1.4095221\ttotal: 3.92s\tremaining: 51.7ms\n",
      "987:\tlearn: 1.4095059\ttotal: 3.93s\tremaining: 47.7ms\n",
      "988:\tlearn: 1.4094999\ttotal: 3.93s\tremaining: 43.7ms\n",
      "989:\tlearn: 1.4094949\ttotal: 3.94s\tremaining: 39.8ms\n",
      "990:\tlearn: 1.4094772\ttotal: 3.94s\tremaining: 35.8ms\n",
      "991:\tlearn: 1.4094509\ttotal: 3.95s\tremaining: 31.9ms\n",
      "992:\tlearn: 1.4094395\ttotal: 3.96s\tremaining: 27.9ms\n",
      "993:\tlearn: 1.4094256\ttotal: 3.96s\tremaining: 23.9ms\n",
      "994:\tlearn: 1.4094144\ttotal: 3.97s\tremaining: 19.9ms\n",
      "995:\tlearn: 1.4093753\ttotal: 3.97s\tremaining: 16ms\n",
      "996:\tlearn: 1.4093744\ttotal: 3.98s\tremaining: 12ms\n",
      "997:\tlearn: 1.4093709\ttotal: 3.98s\tremaining: 7.98ms\n",
      "998:\tlearn: 1.4093670\ttotal: 3.99s\tremaining: 3.99ms\n",
      "999:\tlearn: 1.4093594\ttotal: 3.99s\tremaining: 0us\n"
     ]
    },
    {
     "ename": "ValueError",
     "evalue": "continuous is not supported",
     "output_type": "error",
     "traceback": [
      "\u001b[1;31m---------------------------------------------------------------------------\u001b[0m",
      "\u001b[1;31mValueError\u001b[0m                                Traceback (most recent call last)",
      "\u001b[1;32m<ipython-input-225-e1e6ea5e1bd7>\u001b[0m in \u001b[0;36m<module>\u001b[1;34m\u001b[0m\n\u001b[0;32m      2\u001b[0m \u001b[0mcat\u001b[0m\u001b[1;33m.\u001b[0m\u001b[0mfit\u001b[0m\u001b[1;33m(\u001b[0m\u001b[0mxtrain\u001b[0m\u001b[1;33m,\u001b[0m\u001b[0mytrain\u001b[0m\u001b[1;33m)\u001b[0m\u001b[1;33m\u001b[0m\u001b[1;33m\u001b[0m\u001b[0m\n\u001b[0;32m      3\u001b[0m \u001b[0mpred_cat\u001b[0m\u001b[1;33m=\u001b[0m\u001b[0mcat\u001b[0m\u001b[1;33m.\u001b[0m\u001b[0mpredict\u001b[0m\u001b[1;33m(\u001b[0m\u001b[0mxtest\u001b[0m\u001b[1;33m)\u001b[0m\u001b[1;33m\u001b[0m\u001b[1;33m\u001b[0m\u001b[0m\n\u001b[1;32m----> 4\u001b[1;33m \u001b[0maccu_cat\u001b[0m\u001b[1;33m=\u001b[0m\u001b[0maccuracy_score\u001b[0m\u001b[1;33m(\u001b[0m\u001b[0mytest\u001b[0m\u001b[1;33m,\u001b[0m\u001b[0mpred_cat\u001b[0m\u001b[1;33m)\u001b[0m\u001b[1;33m*\u001b[0m\u001b[1;36m100\u001b[0m\u001b[1;33m\u001b[0m\u001b[1;33m\u001b[0m\u001b[0m\n\u001b[0m\u001b[0;32m      5\u001b[0m \u001b[0maccu_cat\u001b[0m\u001b[1;33m\u001b[0m\u001b[1;33m\u001b[0m\u001b[0m\n",
      "\u001b[1;32m~\\anaconda3\\lib\\site-packages\\sklearn\\metrics\\_classification.py\u001b[0m in \u001b[0;36maccuracy_score\u001b[1;34m(y_true, y_pred, normalize, sample_weight)\u001b[0m\n\u001b[0;32m    183\u001b[0m \u001b[1;33m\u001b[0m\u001b[0m\n\u001b[0;32m    184\u001b[0m     \u001b[1;31m# Compute accuracy for each possible representation\u001b[0m\u001b[1;33m\u001b[0m\u001b[1;33m\u001b[0m\u001b[1;33m\u001b[0m\u001b[0m\n\u001b[1;32m--> 185\u001b[1;33m     \u001b[0my_type\u001b[0m\u001b[1;33m,\u001b[0m \u001b[0my_true\u001b[0m\u001b[1;33m,\u001b[0m \u001b[0my_pred\u001b[0m \u001b[1;33m=\u001b[0m \u001b[0m_check_targets\u001b[0m\u001b[1;33m(\u001b[0m\u001b[0my_true\u001b[0m\u001b[1;33m,\u001b[0m \u001b[0my_pred\u001b[0m\u001b[1;33m)\u001b[0m\u001b[1;33m\u001b[0m\u001b[1;33m\u001b[0m\u001b[0m\n\u001b[0m\u001b[0;32m    186\u001b[0m     \u001b[0mcheck_consistent_length\u001b[0m\u001b[1;33m(\u001b[0m\u001b[0my_true\u001b[0m\u001b[1;33m,\u001b[0m \u001b[0my_pred\u001b[0m\u001b[1;33m,\u001b[0m \u001b[0msample_weight\u001b[0m\u001b[1;33m)\u001b[0m\u001b[1;33m\u001b[0m\u001b[1;33m\u001b[0m\u001b[0m\n\u001b[0;32m    187\u001b[0m     \u001b[1;32mif\u001b[0m \u001b[0my_type\u001b[0m\u001b[1;33m.\u001b[0m\u001b[0mstartswith\u001b[0m\u001b[1;33m(\u001b[0m\u001b[1;34m'multilabel'\u001b[0m\u001b[1;33m)\u001b[0m\u001b[1;33m:\u001b[0m\u001b[1;33m\u001b[0m\u001b[1;33m\u001b[0m\u001b[0m\n",
      "\u001b[1;32m~\\anaconda3\\lib\\site-packages\\sklearn\\metrics\\_classification.py\u001b[0m in \u001b[0;36m_check_targets\u001b[1;34m(y_true, y_pred)\u001b[0m\n\u001b[0;32m     95\u001b[0m     \u001b[1;31m# No metrics support \"multiclass-multioutput\" format\u001b[0m\u001b[1;33m\u001b[0m\u001b[1;33m\u001b[0m\u001b[1;33m\u001b[0m\u001b[0m\n\u001b[0;32m     96\u001b[0m     \u001b[1;32mif\u001b[0m \u001b[1;33m(\u001b[0m\u001b[0my_type\u001b[0m \u001b[1;32mnot\u001b[0m \u001b[1;32min\u001b[0m \u001b[1;33m[\u001b[0m\u001b[1;34m\"binary\"\u001b[0m\u001b[1;33m,\u001b[0m \u001b[1;34m\"multiclass\"\u001b[0m\u001b[1;33m,\u001b[0m \u001b[1;34m\"multilabel-indicator\"\u001b[0m\u001b[1;33m]\u001b[0m\u001b[1;33m)\u001b[0m\u001b[1;33m:\u001b[0m\u001b[1;33m\u001b[0m\u001b[1;33m\u001b[0m\u001b[0m\n\u001b[1;32m---> 97\u001b[1;33m         \u001b[1;32mraise\u001b[0m \u001b[0mValueError\u001b[0m\u001b[1;33m(\u001b[0m\u001b[1;34m\"{0} is not supported\"\u001b[0m\u001b[1;33m.\u001b[0m\u001b[0mformat\u001b[0m\u001b[1;33m(\u001b[0m\u001b[0my_type\u001b[0m\u001b[1;33m)\u001b[0m\u001b[1;33m)\u001b[0m\u001b[1;33m\u001b[0m\u001b[1;33m\u001b[0m\u001b[0m\n\u001b[0m\u001b[0;32m     98\u001b[0m \u001b[1;33m\u001b[0m\u001b[0m\n\u001b[0;32m     99\u001b[0m     \u001b[1;32mif\u001b[0m \u001b[0my_type\u001b[0m \u001b[1;32min\u001b[0m \u001b[1;33m[\u001b[0m\u001b[1;34m\"binary\"\u001b[0m\u001b[1;33m,\u001b[0m \u001b[1;34m\"multiclass\"\u001b[0m\u001b[1;33m]\u001b[0m\u001b[1;33m:\u001b[0m\u001b[1;33m\u001b[0m\u001b[1;33m\u001b[0m\u001b[0m\n",
      "\u001b[1;31mValueError\u001b[0m: continuous is not supported"
     ]
    }
   ],
   "source": [
    "cat=CatBoostRegressor()\n",
    "cat.fit(xtrain,ytrain)\n",
    "pred_cat=cat.predict(xtest)\n",
    "accu_cat=accuracy_score(ytest,pred_cat)*100\n",
    "accu_cat"
   ]
  },
  {
   "cell_type": "code",
   "execution_count": 226,
   "metadata": {},
   "outputs": [
    {
     "data": {
      "text/plain": [
       "<matplotlib.axes._subplots.AxesSubplot at 0x240bdffd848>"
      ]
     },
     "execution_count": 226,
     "metadata": {},
     "output_type": "execute_result"
    },
    {
     "data": {
      "image/png": "[encoded data removed]",
      "text/plain": [
       "<Figure size 432x288 with 1 Axes>"
      ]
     },
     "metadata": {},
     "output_type": "display_data"
    }
   ],
   "source": [
    "df.Gender.value_counts().plot(kind='pie')"
   ]
  },
  {
   "cell_type": "code",
   "execution_count": 228,
   "metadata": {},
   "outputs": [
    {
     "data": {
      "image/png": "[encoded data removed]",
      "text/plain": [
       "<Figure size 432x288 with 2 Axes>"
      ]
     },
     "metadata": {
      "needs_background": "light"
     },
     "output_type": "display_data"
    }
   ],
   "source": [
    "\n",
    "cmap = sns.diverging_palette(230, 20, as_cmap=True)\n",
    "sns.heatmap(df.corr(),annot=True,cmap='Dark2_r',linewidths=2)\n",
    "plt.show()"
   ]
  },
  {
   "cell_type": "code",
   "execution_count": 229,
   "metadata": {},
   "outputs": [
    {
     "data": {
      "text/plain": [
       "<matplotlib.axes._subplots.AxesSubplot at 0x240be124ec8>"
      ]
     },
     "execution_count": 229,
     "metadata": {},
     "output_type": "execute_result"
    },
    {
     "data": {
      "image/png": "[encoded data removed]",
      "text/plain": [
       "<Figure size 432x288 with 2 Axes>"
      ]
     },
     "metadata": {
      "needs_background": "light"
     },
     "output_type": "display_data"
    }
   ],
   "source": [
    "sns.heatmap(df.corr(),annot=True)"
   ]
  },
  {
   "cell_type": "code",
   "execution_count": 230,
   "metadata": {},
   "outputs": [
    {
     "data": {
      "text/plain": [
       "<matplotlib.axes._subplots.AxesSubplot at 0x240be273ac8>"
      ]
     },
     "execution_count": 230,
     "metadata": {},
     "output_type": "execute_result"
    },
    {
     "data": {
      "image/png": "[encoded data removed]",
      "text/plain": [
       "<Figure size 432x288 with 1 Axes>"
      ]
     },
     "metadata": {
      "needs_background": "light"
     },
     "output_type": "display_data"
    }
   ],
   "source": [
    "sns.scatterplot(x='Height',y='Weight',data=df,color='red')"
   ]
  },
  {
   "cell_type": "code",
   "execution_count": 231,
   "metadata": {},
   "outputs": [
    {
     "data": {
      "text/plain": [
       "<matplotlib.axes._subplots.AxesSubplot at 0x240be2be188>"
      ]
     },
     "execution_count": 231,
     "metadata": {},
     "output_type": "execute_result"
    },
    {
     "data": {
      "image/png": "[encoded data removed]",
      "text/plain": [
       "<Figure size 432x288 with 1 Axes>"
      ]
     },
     "metadata": {
      "needs_background": "light"
     },
     "output_type": "display_data"
    }
   ],
   "source": [
    "sns.boxplot(x='Gender',y='Weight',data=df,color='red')"
   ]
  },
  {
   "cell_type": "code",
   "execution_count": 235,
   "metadata": {},
   "outputs": [
    {
     "data": {
      "text/plain": [
       "<matplotlib.axes._subplots.AxesSubplot at 0x240c875bf48>"
      ]
     },
     "execution_count": 235,
     "metadata": {},
     "output_type": "execute_result"
    },
    {
     "data": {
      "image/png": "[encoded data removed]",
      "text/plain": [
       "<Figure size 432x288 with 1 Axes>"
      ]
     },
     "metadata": {
      "needs_background": "light"
     },
     "output_type": "display_data"
    }
   ],
   "source": [
    "sns.boxenplot(x='Gender',y='Height',data=df)"
   ]
  },
  {
   "cell_type": "code",
   "execution_count": 240,
   "metadata": {},
   "outputs": [
    {
     "data": {
      "text/plain": [
       "<matplotlib.axes._subplots.AxesSubplot at 0x240cbdfd6c8>"
      ]
     },
     "execution_count": 240,
     "metadata": {},
     "output_type": "execute_result"
    },
    {
     "data": {
      "image/png": "[encoded data removed]",
      "text/plain": [
       "<Figure size 432x288 with 1 Axes>"
      ]
     },
     "metadata": {
      "needs_background": "light"
     },
     "output_type": "display_data"
    }
   ],
   "source": [
    "sns.distplot(df['Gender'],color='red')"
   ]
  },
  {
   "cell_type": "code",
   "execution_count": 241,
   "metadata": {},
   "outputs": [
    {
     "data": {
      "text/plain": [
       "<matplotlib.axes._subplots.AxesSubplot at 0x240cc98fac8>"
      ]
     },
     "execution_count": 241,
     "metadata": {},
     "output_type": "execute_result"
    },
    {
     "data": {
      "image/png": "[encoded data removed]",
      "text/plain": [
       "<Figure size 432x288 with 1 Axes>"
      ]
     },
     "metadata": {
      "needs_background": "light"
     },
     "output_type": "display_data"
    }
   ],
   "source": [
    "sns.lineplot(x='Height', y='Weight',data=df,color=\"red\")"
   ]
  },
  {
   "cell_type": "code",
   "execution_count": 244,
   "metadata": {},
   "outputs": [
    {
     "data": {
      "text/plain": [
       "<seaborn.axisgrid.JointGrid at 0x240c1c94ec8>"
      ]
     },
     "execution_count": 244,
     "metadata": {},
     "output_type": "execute_result"
    },
    {
     "data": {
      "image/png": "[encoded data removed]",
      "text/plain": [
       "<Figure size 432x432 with 3 Axes>"
      ]
     },
     "metadata": {
      "needs_background": "light"
     },
     "output_type": "display_data"
    }
   ],
   "source": [
    "sns.jointplot(x='Height', y='Weight',data=df,color=\"red\",kind='kde')"
   ]
  },
  {
   "cell_type": "code",
   "execution_count": 245,
   "metadata": {},
   "outputs": [
    {
     "data": {
      "text/plain": [
       "Index(['Gender', 'Height', 'Weight'], dtype='object')"
      ]
     },
     "execution_count": 245,
     "metadata": {},
     "output_type": "execute_result"
    }
   ],
   "source": [
    "df.columns"
   ]
  },
  {
   "cell_type": "code",
   "execution_count": 246,
   "metadata": {},
   "outputs": [
    {
     "data": {
      "text/plain": [
       "<matplotlib.axes._subplots.AxesSubplot at 0x240be3a6348>"
      ]
     },
     "execution_count": 246,
     "metadata": {},
     "output_type": "execute_result"
    },
    {
     "data": {
      "image/png": "[encoded data removed]",
      "text/plain": [
       "<Figure size 432x288 with 1 Axes>"
      ]
     },
     "metadata": {
      "needs_background": "light"
     },
     "output_type": "display_data"
    }
   ],
   "source": [
    "sns.kdeplot(df['Gender'])\n",
    "sns.kdeplot(df['Height'])\n",
    "sns.kdeplot(df['Weight'])"
   ]
  },
  {
   "cell_type": "code",
   "execution_count": 247,
   "metadata": {},
   "outputs": [
    {
     "data": {
      "text/plain": [
       "<matplotlib.axes._subplots.AxesSubplot at 0x240c20fc408>"
      ]
     },
     "execution_count": 247,
     "metadata": {},
     "output_type": "execute_result"
    },
    {
     "data": {
      "image/png": "[encoded data removed]",
      "text/plain": [
       "<Figure size 432x288 with 1 Axes>"
      ]
     },
     "metadata": {
      "needs_background": "light"
     },
     "output_type": "display_data"
    }
   ],
   "source": [
    "sns.violinplot(y=\"Gender\",data=df)\n",
    "sns.violinplot(y=\"Height\",data=df,color='orange')\n",
    "sns.violinplot(y=\"Weight\",data=df,color='red')"
   ]
  },
  {
   "cell_type": "code",
   "execution_count": 248,
   "metadata": {},
   "outputs": [
    {
     "data": {
      "text/plain": [
       "<matplotlib.axes._subplots.AxesSubplot at 0x240c2440d48>"
      ]
     },
     "execution_count": 248,
     "metadata": {},
     "output_type": "execute_result"
    },
    {
     "data": {
      "image/png": "[encoded data removed]",
      "text/plain": [
       "<Figure size 432x288 with 1 Axes>"
      ]
     },
     "metadata": {
      "needs_background": "light"
     },
     "output_type": "display_data"
    }
   ],
   "source": [
    "df.boxplot(column=\"Gender\")\n",
    "df.boxplot(column=\"Height\",color='orange')\n",
    "df.boxplot(column=\"Weight\",color='red')"
   ]
  },
  {
   "cell_type": "code",
   "execution_count": 249,
   "metadata": {},
   "outputs": [],
   "source": [
    "import sweetviz as sv"
   ]
  },
  {
   "cell_type": "code",
   "execution_count": 250,
   "metadata": {},
   "outputs": [
    {
     "data": {
      "application/vnd.jupyter.widget-view+json": {
       "model_id": "6cd1ae47abb440b7a8bc7d721e92ef3f",
       "version_major": 2,
       "version_minor": 0
      },
      "text/plain": [
       "                                             |                                             | [  0%]   00:00 ->…"
      ]
     },
     "metadata": {},
     "output_type": "display_data"
    },
    {
     "name": "stdout",
     "output_type": "stream",
     "text": [
      "Report Analyze.html was generated! NOTEBOOK/COLAB USERS: the web browser MAY not pop up, regardless, the report IS saved in your notebook/colab files.\n"
     ]
    }
   ],
   "source": [
    "data=sv.analyze(df)\n",
    "data.show_html('Analyze.html')"
   ]
  },
  {
   "cell_type": "code",
   "execution_count": 251,
   "metadata": {},
   "outputs": [],
   "source": [
    "from IPython.display import IFrame"
   ]
  },
  {
   "cell_type": "code",
   "execution_count": 252,
   "metadata": {},
   "outputs": [
    {
     "data": {
      "text/html": [
       "\n",
       "        <iframe\n",
       "            width=\"1000\"\n",
       "            height=\"600\"\n",
       "            src=\"Analyze.html\"\n",
       "            frameborder=\"0\"\n",
       "            allowfullscreen\n",
       "        ></iframe>\n",
       "        "
      ],
      "text/plain": [
       "<IPython.lib.display.IFrame at 0x240c3377488>"
      ]
     },
     "execution_count": 252,
     "metadata": {},
     "output_type": "execute_result"
    }
   ],
   "source": [
    "IFrame(src='Analyze.html',width=1000,height=600)"
   ]
  },
  {
   "cell_type": "code",
   "execution_count": 253,
   "metadata": {},
   "outputs": [],
   "source": [
    "from sklearn.preprocessing import MinMaxScaler\n",
    "from sklearn.preprocessing import StandardScaler"
   ]
  },
  {
   "cell_type": "code",
   "execution_count": 254,
   "metadata": {},
   "outputs": [
    {
     "data": {
      "text/html": [
       "<div>\n",
       "<style scoped>\n",
       "    .dataframe tbody tr th:only-of-type {\n",
       "        vertical-align: middle;\n",
       "    }\n",
       "\n",
       "    .dataframe tbody tr th {\n",
       "        vertical-align: top;\n",
       "    }\n",
       "\n",
       "    .dataframe thead th {\n",
       "        text-align: right;\n",
       "    }\n",
       "</style>\n",
       "<table border=\"1\" class=\"dataframe\">\n",
       "  <thead>\n",
       "    <tr style=\"text-align: right;\">\n",
       "      <th></th>\n",
       "      <th>Gender</th>\n",
       "      <th>Height</th>\n",
       "      <th>Weight</th>\n",
       "    </tr>\n",
       "  </thead>\n",
       "  <tbody>\n",
       "    <tr>\n",
       "      <th>0</th>\n",
       "      <td>1.0</td>\n",
       "      <td>0.791728</td>\n",
       "      <td>0.863139</td>\n",
       "    </tr>\n",
       "    <tr>\n",
       "      <th>1</th>\n",
       "      <td>1.0</td>\n",
       "      <td>0.586958</td>\n",
       "      <td>0.475476</td>\n",
       "    </tr>\n",
       "    <tr>\n",
       "      <th>2</th>\n",
       "      <td>1.0</td>\n",
       "      <td>0.802364</td>\n",
       "      <td>0.721131</td>\n",
       "    </tr>\n",
       "    <tr>\n",
       "      <th>3</th>\n",
       "      <td>1.0</td>\n",
       "      <td>0.706182</td>\n",
       "      <td>0.756699</td>\n",
       "    </tr>\n",
       "    <tr>\n",
       "      <th>4</th>\n",
       "      <td>1.0</td>\n",
       "      <td>0.631424</td>\n",
       "      <td>0.689999</td>\n",
       "    </tr>\n",
       "    <tr>\n",
       "      <th>...</th>\n",
       "      <td>...</td>\n",
       "      <td>...</td>\n",
       "      <td>...</td>\n",
       "    </tr>\n",
       "    <tr>\n",
       "      <th>9995</th>\n",
       "      <td>0.0</td>\n",
       "      <td>0.481473</td>\n",
       "      <td>0.351101</td>\n",
       "    </tr>\n",
       "    <tr>\n",
       "      <th>9996</th>\n",
       "      <td>0.0</td>\n",
       "      <td>0.517635</td>\n",
       "      <td>0.517161</td>\n",
       "    </tr>\n",
       "    <tr>\n",
       "      <th>9997</th>\n",
       "      <td>0.0</td>\n",
       "      <td>0.388301</td>\n",
       "      <td>0.310660</td>\n",
       "    </tr>\n",
       "    <tr>\n",
       "      <th>9998</th>\n",
       "      <td>0.0</td>\n",
       "      <td>0.597160</td>\n",
       "      <td>0.482988</td>\n",
       "    </tr>\n",
       "    <tr>\n",
       "      <th>9999</th>\n",
       "      <td>0.0</td>\n",
       "      <td>0.310529</td>\n",
       "      <td>0.238439</td>\n",
       "    </tr>\n",
       "  </tbody>\n",
       "</table>\n",
       "<p>10000 rows × 3 columns</p>\n",
       "</div>"
      ],
      "text/plain": [
       "      Gender    Height    Weight\n",
       "0        1.0  0.791728  0.863139\n",
       "1        1.0  0.586958  0.475476\n",
       "2        1.0  0.802364  0.721131\n",
       "3        1.0  0.706182  0.756699\n",
       "4        1.0  0.631424  0.689999\n",
       "...      ...       ...       ...\n",
       "9995     0.0  0.481473  0.351101\n",
       "9996     0.0  0.517635  0.517161\n",
       "9997     0.0  0.388301  0.310660\n",
       "9998     0.0  0.597160  0.482988\n",
       "9999     0.0  0.310529  0.238439\n",
       "\n",
       "[10000 rows x 3 columns]"
      ]
     },
     "execution_count": 254,
     "metadata": {},
     "output_type": "execute_result"
    }
   ],
   "source": [
    "man=MinMaxScaler()\n",
    "feat=['Gender', 'Height', 'Weight']\n",
    "df[feat]=man.fit_transform(df[feat])\n",
    "df[feat]"
   ]
  },
  {
   "cell_type": "code",
   "execution_count": 255,
   "metadata": {},
   "outputs": [
    {
     "data": {
      "text/html": [
       "<div>\n",
       "<style scoped>\n",
       "    .dataframe tbody tr th:only-of-type {\n",
       "        vertical-align: middle;\n",
       "    }\n",
       "\n",
       "    .dataframe tbody tr th {\n",
       "        vertical-align: top;\n",
       "    }\n",
       "\n",
       "    .dataframe thead th {\n",
       "        text-align: right;\n",
       "    }\n",
       "</style>\n",
       "<table border=\"1\" class=\"dataframe\">\n",
       "  <thead>\n",
       "    <tr style=\"text-align: right;\">\n",
       "      <th></th>\n",
       "      <th>Gender</th>\n",
       "      <th>Height</th>\n",
       "      <th>Weight</th>\n",
       "    </tr>\n",
       "  </thead>\n",
       "  <tbody>\n",
       "    <tr>\n",
       "      <th>0</th>\n",
       "      <td>1.0</td>\n",
       "      <td>1.944061</td>\n",
       "      <td>2.505797</td>\n",
       "    </tr>\n",
       "    <tr>\n",
       "      <th>1</th>\n",
       "      <td>1.0</td>\n",
       "      <td>0.627537</td>\n",
       "      <td>0.027101</td>\n",
       "    </tr>\n",
       "    <tr>\n",
       "      <th>2</th>\n",
       "      <td>1.0</td>\n",
       "      <td>2.012443</td>\n",
       "      <td>1.597806</td>\n",
       "    </tr>\n",
       "    <tr>\n",
       "      <th>3</th>\n",
       "      <td>1.0</td>\n",
       "      <td>1.394060</td>\n",
       "      <td>1.825222</td>\n",
       "    </tr>\n",
       "    <tr>\n",
       "      <th>4</th>\n",
       "      <td>1.0</td>\n",
       "      <td>0.913421</td>\n",
       "      <td>1.398750</td>\n",
       "    </tr>\n",
       "    <tr>\n",
       "      <th>...</th>\n",
       "      <td>...</td>\n",
       "      <td>...</td>\n",
       "      <td>...</td>\n",
       "    </tr>\n",
       "    <tr>\n",
       "      <th>9995</th>\n",
       "      <td>-1.0</td>\n",
       "      <td>-0.050660</td>\n",
       "      <td>-0.768151</td>\n",
       "    </tr>\n",
       "    <tr>\n",
       "      <th>9996</th>\n",
       "      <td>-1.0</td>\n",
       "      <td>0.181839</td>\n",
       "      <td>0.293631</td>\n",
       "    </tr>\n",
       "    <tr>\n",
       "      <th>9997</th>\n",
       "      <td>-1.0</td>\n",
       "      <td>-0.649688</td>\n",
       "      <td>-1.026730</td>\n",
       "    </tr>\n",
       "    <tr>\n",
       "      <th>9998</th>\n",
       "      <td>-1.0</td>\n",
       "      <td>0.693125</td>\n",
       "      <td>0.075127</td>\n",
       "    </tr>\n",
       "    <tr>\n",
       "      <th>9999</th>\n",
       "      <td>-1.0</td>\n",
       "      <td>-1.149708</td>\n",
       "      <td>-1.488507</td>\n",
       "    </tr>\n",
       "  </tbody>\n",
       "</table>\n",
       "<p>10000 rows × 3 columns</p>\n",
       "</div>"
      ],
      "text/plain": [
       "      Gender    Height    Weight\n",
       "0        1.0  1.944061  2.505797\n",
       "1        1.0  0.627537  0.027101\n",
       "2        1.0  2.012443  1.597806\n",
       "3        1.0  1.394060  1.825222\n",
       "4        1.0  0.913421  1.398750\n",
       "...      ...       ...       ...\n",
       "9995    -1.0 -0.050660 -0.768151\n",
       "9996    -1.0  0.181839  0.293631\n",
       "9997    -1.0 -0.649688 -1.026730\n",
       "9998    -1.0  0.693125  0.075127\n",
       "9999    -1.0 -1.149708 -1.488507\n",
       "\n",
       "[10000 rows x 3 columns]"
      ]
     },
     "execution_count": 255,
     "metadata": {},
     "output_type": "execute_result"
    }
   ],
   "source": [
    "std=StandardScaler()\n",
    "feat=['Gender', 'Height', 'Weight']\n",
    "df[feat]=std.fit_transform(df[feat])\n",
    "df[feat]"
   ]
  },
  {
   "cell_type": "code",
   "execution_count": null,
   "metadata": {},
   "outputs": [],
   "source": []
  }
 ],
 "metadata": {
  "kernelspec": {
   "display_name": "Python 3",
   "language": "python",
   "name": "python3"
  },
  "language_info": {
   "codemirror_mode": {
    "name": "ipython",
    "version": 3
   },
   "file_extension": ".py",
   "mimetype": "text/x-python",
   "name": "python",
   "nbconvert_exporter": "python",
   "pygments_lexer": "ipython3",
   "version": "3.7.6"
  }
 },
 "nbformat": 4,
 "nbformat_minor": 4
}
